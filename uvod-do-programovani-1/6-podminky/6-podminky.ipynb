{
 "cells": [
  {
   "attachments": {},
   "cell_type": "markdown",
   "metadata": {},
   "source": [
    "# Podmínky"
   ]
  },
  {
   "attachments": {},
   "cell_type": "markdown",
   "metadata": {},
   "source": [
    "## Bloky"
   ]
  },
  {
   "cell_type": "code",
   "execution_count": null,
   "metadata": {},
   "outputs": [],
   "source": [
    "if vek >= 15:\n",
    "    print('Vítej na představení')\n",
    "else:\n",
    "    print('Dnes to není pro tebe')"
   ]
  },
  {
   "attachments": {},
   "cell_type": "markdown",
   "metadata": {},
   "source": [
    "## Podmínky s více větvemi"
   ]
  },
  {
   "cell_type": "code",
   "execution_count": null,
   "metadata": {},
   "outputs": [],
   "source": [
    "if vek < 6:\n",
    "    print('Předškolák')\n",
    "elif vek < 15:\n",
    "    print('Školák')\n",
    "elif vek < 18:\n",
    "    print('Mladistvý')\n",
    "else:\n",
    "    print('Dospělý')"
   ]
  },
  {
   "attachments": {},
   "cell_type": "markdown",
   "metadata": {},
   "source": [
    "## Porovnávací operátory"
   ]
  },
  {
   "attachments": {},
   "cell_type": "markdown",
   "metadata": {},
   "source": [
    "* rovno: `==`\n",
    "* nerovno: `!=`\n",
    "* větší: `>`\n",
    "* větší nebo rovno: `>=`\n",
    "* menší: `<`\n",
    "* menší nebo rovno: `<=`"
   ]
  }
 ],
 "metadata": {
  "kernelspec": {
   "display_name": "Python 3",
   "language": "python",
   "name": "python3"
  },
  "language_info": {
   "name": "python",
   "version": "3.10.1"
  },
  "orig_nbformat": 4,
  "vscode": {
   "interpreter": {
    "hash": "aee8b7b246df8f9039afb4144a1f6fd8d2ca17a180786b69acc140d282b71a49"
   }
  }
 },
 "nbformat": 4,
 "nbformat_minor": 2
}
