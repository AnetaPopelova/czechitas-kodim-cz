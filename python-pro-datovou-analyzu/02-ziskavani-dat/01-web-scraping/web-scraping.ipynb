{
 "cells": [
  {
   "cell_type": "markdown",
   "metadata": {},
   "source": [
    "# Web scraping"
   ]
  },
  {
   "cell_type": "markdown",
   "metadata": {},
   "source": [
    "Naučíte se jak ve vašich Python programech vytáhnout data z webových stránek.\n",
    "\n",
    "https://kodim.cz/kurzy/python-data-1/ziskavani-dat/webscraping/html"
   ]
  },
  {
   "cell_type": "markdown",
   "metadata": {},
   "source": [
    "## HTML\n",
    "\n",
    "Webové stránky jsou textové soubory psané ve speciálním jazyce zvaném `HTML` (_HyperText Markup Language_). \n",
    "\n",
    "`HTML` není jazyk programovací, nýbrž takzvaně značkovací. \n",
    "\n",
    "Pomocí `HTML` tvůrci webů definují samotný obsah stránek, tedy texty, obrázky, odkazy apod. \n",
    "\n",
    "Samotný vzhled stránky (barvičky, styl písma, rozmístění prvků na stránce apod.) se vytváří v jazyce zvaném `CSS`."
   ]
  },
  {
   "cell_type": "markdown",
   "metadata": {},
   "source": [
    "### HTML značky (tagy)\n",
    "\n",
    "HTML elements reference:  https://developer.mozilla.org/en-US/docs/Web/HTML/Element"
   ]
  },
  {
   "cell_type": "markdown",
   "metadata": {},
   "source": [
    "```html\n",
    "<html>\n",
    "<head>\n",
    "  <meta charset=\"UTF-8\">\n",
    "  <title>Ukázka</title>\n",
    "</head>\n",
    "<body>\n",
    "  <h1>Nadpis první úrovně</h1>\n",
    "  <p>\n",
    "    Text nějakého odstavce, který obsahuje\n",
    "    <em>zvýrazněný text</em> a také <strong>\n",
    "    důležitý text.</strong>\n",
    "  </p>\n",
    "\n",
    "  <h2>Nadpis druhé úrovně</h2>\n",
    "  <div class=\"sekce1\">\n",
    "    <p>\n",
    "      Druhý odstavec je v takzvaném divu, což je\n",
    "      značka, která nemá sama o sobě žádný význam.\n",
    "      Také zde máme\n",
    "      <a href=\"http;://www.czechitas.cz\"> odkaz na\n",
    "      stránky Czechitas</a>.\n",
    "    </p>\n",
    "\n",
    "    <ol type=\"a\">\n",
    "      <li>První položka seznamu</li>\n",
    "      <li>Druhá položka seznamu</li>\n",
    "      <li>Třetí položka seznamu</li>\n",
    "    </ol>\n",
    "  </div>\n",
    "</body>\n",
    "</html>\n",
    "```"
   ]
  },
  {
   "cell_type": "markdown",
   "metadata": {},
   "source": [
    "<html>\n",
    "<head>\n",
    "  <meta charset=\"UTF-8\">\n",
    "  <title>Ukázka</title>\n",
    "</head>\n",
    "<body>\n",
    "  <h1>Nadpis první úrovně</h1>\n",
    "  <p>\n",
    "    Text nějakého odstavce, který obsahuje\n",
    "    <em>zvýrazněný text</em> a také <strong>\n",
    "    důležitý text.</strong>\n",
    "  </p>\n",
    "\n",
    "  <h2>Nadpis druhé úrovně</h2>\n",
    "  <div class=\"sekce1\">\n",
    "    <p>\n",
    "      Druhý odstavec je v takzvaném divu, což je\n",
    "      značka, která nemá sama o sobě žádný význam.\n",
    "      Také zde máme\n",
    "      <a href=\"http;://www.czechitas.cz\"> odkaz na\n",
    "      stránky Czechitas</a>.\n",
    "    </p>\n",
    "\n",
    "   <ol type=a>\n",
    "      <li>První položka seznamu</li>\n",
    "      <li>Druhá položka seznamu</li>\n",
    "      <li>Třetí položka seznamu</li>\n",
    "    </ol>\n",
    "  </div>\n",
    "</body>\n",
    "</html>"
   ]
  },
  {
   "cell_type": "markdown",
   "metadata": {},
   "source": [
    "## Web scraping v Pythonu"
   ]
  },
  {
   "cell_type": "markdown",
   "metadata": {},
   "source": [
    "Potřebujeme nainstalovat modul, který umí číst HTML značky a pomocí těchto značek v HTML souborech vyhledávat. \n",
    "\n",
    "`pip3 install requests-html`\n",
    "\n",
    "`pip install requests-html # pro Windows`"
   ]
  },
  {
   "cell_type": "code",
   "execution_count": 4,
   "metadata": {},
   "outputs": [],
   "source": [
    "# !pip3 install requests-html\n",
    "\n",
    "from requests_html import HTML\n",
    "\n",
    "# obsah textového souboru už do proměnné načíst umíme\n",
    "with open(\"assets/dhmo/ukazka-html/ukazka.html\", encoding=\"utf-8\") as soubor:\n",
    "    obsah = soubor.read()\n",
    "\n",
    "# použijeme náš nový modul, aby si tento obsah přečetl a umožnil v něm vyhledávat\n",
    "html = HTML(html=obsah)"
   ]
  },
  {
   "cell_type": "markdown",
   "metadata": {},
   "source": [
    "HTML značky můžeme vyhledávat podle jména. "
   ]
  },
  {
   "cell_type": "code",
   "execution_count": 5,
   "metadata": {},
   "outputs": [
    {
     "name": "stdout",
     "output_type": "stream",
     "text": [
      "Text nějakého odstavce, který obsahuje zvýrazněný text a také důležitý text.\n",
      "Druhý odstavec je v takzvaném divu, což je značka, která nemá sama o sobě žádný význam. Také zde máme odkaz na stránky Czechitas.\n"
     ]
    }
   ],
   "source": [
    "for odstavec in html.find(\"p\"):\n",
    "    print(odstavec.text)"
   ]
  },
  {
   "cell_type": "markdown",
   "metadata": {},
   "source": [
    "Můžeme vyhledávání podle třídy (atribut class). Třídy se vyhledávají tak, že jejich název začneme tečkou.\n",
    "\n"
   ]
  },
  {
   "cell_type": "code",
   "execution_count": 6,
   "metadata": {},
   "outputs": [
    {
     "name": "stdout",
     "output_type": "stream",
     "text": [
      "Druhý odstavec je v takzvaném divu, což je značka, která nemá sama o sobě žádný význam. Také zde máme odkaz na stránky Czechitas.\n",
      "První položka seznamu\n",
      "Druhá položka seznamu\n",
      "Třetí položka seznamu\n"
     ]
    }
   ],
   "source": [
    "for i in html.find(\".sekce1\"):\n",
    "    print(i.text)"
   ]
  },
  {
   "cell_type": "markdown",
   "metadata": {},
   "source": [
    "Můžeme přistupovat k atributům nalezených značek. "
   ]
  },
  {
   "cell_type": "code",
   "execution_count": 7,
   "metadata": {},
   "outputs": [
    {
     "name": "stdout",
     "output_type": "stream",
     "text": [
      "http://www.czechitas.cz\n"
     ]
    }
   ],
   "source": [
    "# najít adresy všech odkazů na naší stránce.\n",
    "for odkaz in html.find(\"a\"):\n",
    "    print(odkaz.attrs[\"href\"])"
   ]
  },
  {
   "cell_type": "markdown",
   "metadata": {},
   "source": [
    "### Složitější pravidla vyhledávání"
   ]
  },
  {
   "cell_type": "markdown",
   "metadata": {},
   "source": [
    "Můžeme vyhledávat podle více značek najednou."
   ]
  },
  {
   "cell_type": "code",
   "execution_count": 8,
   "metadata": {},
   "outputs": [
    {
     "name": "stdout",
     "output_type": "stream",
     "text": [
      "Nadpis první úrovně\n",
      "Nadpis druhé úrovně\n"
     ]
    }
   ],
   "source": [
    "for nadpis in html.find(\"h1, h2\"):\n",
    "    print(nadpis.text)"
   ]
  },
  {
   "cell_type": "markdown",
   "metadata": {},
   "source": [
    "Můžeme vyhledávat podle atributů. "
   ]
  },
  {
   "cell_type": "code",
   "execution_count": 9,
   "metadata": {},
   "outputs": [
    {
     "data": {
      "text/plain": [
       "[<Element 'ol' type='a'>]"
      ]
     },
     "execution_count": 9,
     "metadata": {},
     "output_type": "execute_result"
    }
   ],
   "source": [
    "# najít všechny seznamy, kde atribut type je roven a.\n",
    "\n",
    "html.find('ol[type=\"a\"]')"
   ]
  },
  {
   "cell_type": "markdown",
   "metadata": {},
   "source": [
    "Můžeme vyhledávat podle zanoření. \n",
    "\n",
    "Mezera ve vyhledávacím řetězci znamená libovolně hluboké zanoření. "
   ]
  },
  {
   "cell_type": "code",
   "execution_count": 10,
   "metadata": {},
   "outputs": [
    {
     "data": {
      "text/plain": [
       "[<Element 'p' >]"
      ]
     },
     "execution_count": 10,
     "metadata": {},
     "output_type": "execute_result"
    }
   ],
   "source": [
    "# najít všechny odstavce, které jsou uvnitř značky s třídou sekce1\n",
    "\n",
    "html.find(\".sekce1 p\")"
   ]
  },
  {
   "cell_type": "code",
   "execution_count": 11,
   "metadata": {},
   "outputs": [
    {
     "data": {
      "text/plain": [
       "[<Element 'p' >]"
      ]
     },
     "execution_count": 11,
     "metadata": {},
     "output_type": "execute_result"
    }
   ],
   "source": [
    "# Pokud bychom chtěli pouze odstavce, které jsou přímým potomkem značky s třídou sekce1,\n",
    "# použijeme symbol zobáčku.\n",
    "\n",
    "html.find(\".sekce1 > p\")"
   ]
  },
  {
   "cell_type": "code",
   "execution_count": 12,
   "metadata": {},
   "outputs": [
    {
     "data": {
      "text/plain": [
       "[<Element 'li' >, <Element 'li' >, <Element 'li' >]"
      ]
     },
     "execution_count": 12,
     "metadata": {},
     "output_type": "execute_result"
    }
   ],
   "source": [
    "# Pokud tyto techniky zkombinujeme,\n",
    "# můžeme například najít všechny položky (<li>) ve všech seznamech (<ol>),\n",
    "# jejichž atribut type je roven a.\n",
    "\n",
    "html.find('ol[type=\"a\"] li')"
   ]
  },
  {
   "cell_type": "markdown",
   "metadata": {},
   "source": [
    "## Scraping přes internet"
   ]
  },
  {
   "cell_type": "markdown",
   "metadata": {},
   "source": [
    "Na adrese https://apps.kodim.cz/python-data/scrape najdete naši malou ukázkovou stránku z úvodu. \n",
    "\n",
    "\n",
    "Na adrese https://apps.kodim.cz/python-data/dhmo najdete také finální verzi stránky šířící poplach ohledně DHMO."
   ]
  },
  {
   "cell_type": "code",
   "execution_count": 13,
   "metadata": {},
   "outputs": [
    {
     "name": "stdout",
     "output_type": "stream",
     "text": [
      "Text nějakého odstavce, který obsahuje zvýrazněný text a také důležitý text.\n",
      "Druhý odstavec je v takzvaném divu, což je značka, která nemá sama o sobě žádný význam. Také zde máme odkaz na stránky Czechitas.\n"
     ]
    }
   ],
   "source": [
    "from requests_html import HTMLSession\n",
    "\n",
    "session = HTMLSession()\n",
    "stranka = session.get(\"https://apps.kodim.cz/python-data/scrape\")\n",
    "for odstavec in stranka.html.find(\"p\"):\n",
    "    print(odstavec.text)\n",
    "\n",
    "# session.close()"
   ]
  },
  {
   "cell_type": "markdown",
   "metadata": {},
   "source": [
    "Pokud chcete vidět celý stažený zdrojový kód stránky jako text, napište:"
   ]
  },
  {
   "cell_type": "code",
   "execution_count": 14,
   "metadata": {},
   "outputs": [
    {
     "name": "stdout",
     "output_type": "stream",
     "text": [
      "<html>\n",
      "<head>\n",
      "  <meta charset=\"UTF-8\">\n",
      "  <title>Ukázka</title>\n",
      "</head>\n",
      "<body>\n",
      "  <h1>Nadpis první úrovně</h1>\n",
      "  <p>Text nějakého odstavce, který obsahuje <em>zvýrazněný text</em> a také  <strong>důležitý text.</strong></p>\n",
      "\n",
      "  <h2>Nadpis druhé úrovně</h2>\n",
      "  <div class=\"sekce1\">\n",
      "    <p>Druhý odstavec je v takzvaném divu, což je značka, která nemá sama o sobě žádný význam. Také zde máme <a href=\"https://www.czechitas.cz/\">odkaz na stránky Czechitas</a>.</p>\n",
      "\n",
      "    <ol type=\"a\">\n",
      "      <li>První položka seznamu</li>\n",
      "      <li>Druhá položka seznamu</li>\n",
      "      <li>Třetí položka seznamu</li>\n",
      "    </ol>\n",
      "  </div>\n",
      "</body>\n",
      "</html>\n"
     ]
    }
   ],
   "source": [
    "print(stranka.html.html)"
   ]
  },
  {
   "cell_type": "markdown",
   "metadata": {},
   "source": [
    "## Web scraping vs JavaScript"
   ]
  },
  {
   "cell_type": "markdown",
   "metadata": {},
   "source": [
    "Velkým trendem v dnešní době je nepsat HTML kód stránky přímo, jako jsme to viděli výše. \n",
    "\n",
    "Místo toho se použije jazyk JavaScript, který kód stránky sám vygeneruje. \n",
    "\n",
    "Tím může být stránka mnohem flexibilnější a interaktivnější, což je hezké pro uživatele. \n",
    "\n",
    "Pro nás to však znamená, že když stránku stahujeme v Pythonu, neobdržíme značky HTML, ale JavaScriptový program. \n",
    "\n",
    "Ten nejdříve musíme v Pythonu spustit a nechat si výsledné HTML vygenerovat.\n",
    "\n",
    "Podívejte se například na tuto stránku, která je psána přesně tímto způsobem. \n",
    "\n",
    "https://react-shopping-cart-67954.firebaseapp.com/\n",
    "\n",
    "Pokud chceme takovou stránku scrapovat, musíme použít takovýto kód.\n",
    "\n"
   ]
  },
  {
   "cell_type": "code",
   "execution_count": 15,
   "metadata": {},
   "outputs": [
    {
     "ename": "RuntimeError",
     "evalue": "Cannot use HTMLSession within an existing event loop. Use AsyncHTMLSession instead.",
     "output_type": "error",
     "traceback": [
      "\u001b[0;31m---------------------------------------------------------------------------\u001b[0m",
      "\u001b[0;31mRuntimeError\u001b[0m                              Traceback (most recent call last)",
      "\u001b[1;32m/Users/entiaperse/Documents/GitHub/czechitas-kodim-cz/python-pro-data-1/02-ziskavani-dat/01-web-scraping/web-scraping.ipynb Cell 32\u001b[0m line \u001b[0;36m5\n\u001b[1;32m      <a href='vscode-notebook-cell:/Users/entiaperse/Documents/GitHub/czechitas-kodim-cz/python-pro-data-1/02-ziskavani-dat/01-web-scraping/web-scraping.ipynb#X43sZmlsZQ%3D%3D?line=2'>3</a>\u001b[0m session \u001b[39m=\u001b[39m HTMLSession()\n\u001b[1;32m      <a href='vscode-notebook-cell:/Users/entiaperse/Documents/GitHub/czechitas-kodim-cz/python-pro-data-1/02-ziskavani-dat/01-web-scraping/web-scraping.ipynb#X43sZmlsZQ%3D%3D?line=3'>4</a>\u001b[0m stranka \u001b[39m=\u001b[39m session\u001b[39m.\u001b[39mget(\u001b[39m\"\u001b[39m\u001b[39mhttps://react-shopping-cart-67954.firebaseapp.com/\u001b[39m\u001b[39m\"\u001b[39m)\n\u001b[0;32m----> <a href='vscode-notebook-cell:/Users/entiaperse/Documents/GitHub/czechitas-kodim-cz/python-pro-data-1/02-ziskavani-dat/01-web-scraping/web-scraping.ipynb#X43sZmlsZQ%3D%3D?line=4'>5</a>\u001b[0m stranka\u001b[39m.\u001b[39;49mhtml\u001b[39m.\u001b[39;49mrender(sleep\u001b[39m=\u001b[39;49m\u001b[39m5\u001b[39;49m)\n\u001b[1;32m      <a href='vscode-notebook-cell:/Users/entiaperse/Documents/GitHub/czechitas-kodim-cz/python-pro-data-1/02-ziskavani-dat/01-web-scraping/web-scraping.ipynb#X43sZmlsZQ%3D%3D?line=6'>7</a>\u001b[0m \u001b[39m# print(stranka.html.html)\u001b[39;00m\n\u001b[1;32m      <a href='vscode-notebook-cell:/Users/entiaperse/Documents/GitHub/czechitas-kodim-cz/python-pro-data-1/02-ziskavani-dat/01-web-scraping/web-scraping.ipynb#X43sZmlsZQ%3D%3D?line=7'>8</a>\u001b[0m \n\u001b[1;32m      <a href='vscode-notebook-cell:/Users/entiaperse/Documents/GitHub/czechitas-kodim-cz/python-pro-data-1/02-ziskavani-dat/01-web-scraping/web-scraping.ipynb#X43sZmlsZQ%3D%3D?line=8'>9</a>\u001b[0m \u001b[39m# session.close()\u001b[39;00m\n",
      "File \u001b[0;32m~/Library/Python/3.9/lib/python/site-packages/requests_html.py:586\u001b[0m, in \u001b[0;36mHTML.render\u001b[0;34m(self, retries, script, wait, scrolldown, sleep, reload, timeout, keep_page)\u001b[0m\n\u001b[1;32m    541\u001b[0m \u001b[39mdef\u001b[39;00m \u001b[39mrender\u001b[39m(\u001b[39mself\u001b[39m, retries: \u001b[39mint\u001b[39m \u001b[39m=\u001b[39m \u001b[39m8\u001b[39m, script: \u001b[39mstr\u001b[39m \u001b[39m=\u001b[39m \u001b[39mNone\u001b[39;00m, wait: \u001b[39mfloat\u001b[39m \u001b[39m=\u001b[39m \u001b[39m0.2\u001b[39m, scrolldown\u001b[39m=\u001b[39m\u001b[39mFalse\u001b[39;00m, sleep: \u001b[39mint\u001b[39m \u001b[39m=\u001b[39m \u001b[39m0\u001b[39m, reload: \u001b[39mbool\u001b[39m \u001b[39m=\u001b[39m \u001b[39mTrue\u001b[39;00m, timeout: Union[\u001b[39mfloat\u001b[39m, \u001b[39mint\u001b[39m] \u001b[39m=\u001b[39m \u001b[39m8.0\u001b[39m, keep_page: \u001b[39mbool\u001b[39m \u001b[39m=\u001b[39m \u001b[39mFalse\u001b[39;00m):\n\u001b[1;32m    542\u001b[0m \u001b[39m    \u001b[39m\u001b[39m\"\"\"Reloads the response in Chromium, and replaces HTML content\u001b[39;00m\n\u001b[1;32m    543\u001b[0m \u001b[39m    with an updated version, with JavaScript executed.\u001b[39;00m\n\u001b[1;32m    544\u001b[0m \n\u001b[0;32m   (...)\u001b[0m\n\u001b[1;32m    583\u001b[0m \u001b[39m    Chromium into your home directory (``~/.pyppeteer``).\u001b[39;00m\n\u001b[1;32m    584\u001b[0m \u001b[39m    \"\"\"\u001b[39;00m\n\u001b[0;32m--> 586\u001b[0m     \u001b[39mself\u001b[39m\u001b[39m.\u001b[39mbrowser \u001b[39m=\u001b[39m \u001b[39mself\u001b[39;49m\u001b[39m.\u001b[39;49msession\u001b[39m.\u001b[39;49mbrowser  \u001b[39m# Automatically create a event loop and browser\u001b[39;00m\n\u001b[1;32m    587\u001b[0m     content \u001b[39m=\u001b[39m \u001b[39mNone\u001b[39;00m\n\u001b[1;32m    589\u001b[0m     \u001b[39m# Automatically set Reload to False, if example URL is being used.\u001b[39;00m\n",
      "File \u001b[0;32m~/Library/Python/3.9/lib/python/site-packages/requests_html.py:729\u001b[0m, in \u001b[0;36mHTMLSession.browser\u001b[0;34m(self)\u001b[0m\n\u001b[1;32m    727\u001b[0m     \u001b[39mself\u001b[39m\u001b[39m.\u001b[39mloop \u001b[39m=\u001b[39m asyncio\u001b[39m.\u001b[39mget_event_loop()\n\u001b[1;32m    728\u001b[0m     \u001b[39mif\u001b[39;00m \u001b[39mself\u001b[39m\u001b[39m.\u001b[39mloop\u001b[39m.\u001b[39mis_running():\n\u001b[0;32m--> 729\u001b[0m         \u001b[39mraise\u001b[39;00m \u001b[39mRuntimeError\u001b[39;00m(\u001b[39m\"\u001b[39m\u001b[39mCannot use HTMLSession within an existing event loop. Use AsyncHTMLSession instead.\u001b[39m\u001b[39m\"\u001b[39m)\n\u001b[1;32m    730\u001b[0m     \u001b[39mself\u001b[39m\u001b[39m.\u001b[39m_browser \u001b[39m=\u001b[39m \u001b[39mself\u001b[39m\u001b[39m.\u001b[39mloop\u001b[39m.\u001b[39mrun_until_complete(\u001b[39msuper\u001b[39m()\u001b[39m.\u001b[39mbrowser)\n\u001b[1;32m    731\u001b[0m \u001b[39mreturn\u001b[39;00m \u001b[39mself\u001b[39m\u001b[39m.\u001b[39m_browser\n",
      "\u001b[0;31mRuntimeError\u001b[0m: Cannot use HTMLSession within an existing event loop. Use AsyncHTMLSession instead."
     ]
    }
   ],
   "source": [
    "from requests_html import HTMLSession\n",
    "\n",
    "session = HTMLSession()\n",
    "stranka = session.get(\"https://react-shopping-cart-67954.firebaseapp.com/\")\n",
    "stranka.html.render(sleep=5)\n",
    "\n",
    "# print(stranka.html.html)\n",
    "\n",
    "# session.close()"
   ]
  },
  {
   "cell_type": "markdown",
   "metadata": {},
   "source": [
    "Notes:\n",
    "\n",
    "- https://pypi.org/project/beautifulsoup4/\n",
    "- https://pypi.org/project/requests/"
   ]
  }
 ],
 "metadata": {
  "kernelspec": {
   "display_name": "Python 3.10.1 64-bit",
   "language": "python",
   "name": "python3"
  },
  "language_info": {
   "codemirror_mode": {
    "name": "ipython",
    "version": 3
   },
   "file_extension": ".py",
   "mimetype": "text/x-python",
   "name": "python",
   "nbconvert_exporter": "python",
   "pygments_lexer": "ipython3",
   "version": "3.9.6"
  },
  "orig_nbformat": 4,
  "vscode": {
   "interpreter": {
    "hash": "aee8b7b246df8f9039afb4144a1f6fd8d2ca17a180786b69acc140d282b71a49"
   }
  }
 },
 "nbformat": 4,
 "nbformat_minor": 2
}
