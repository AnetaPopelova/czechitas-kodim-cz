{
 "cells": [
  {
   "cell_type": "markdown",
   "metadata": {},
   "source": [
    "# Adopce zvířat\n",
    "\n",
    "Stáhni si [dataset](adopce-zvirat.csv), který obsahuje seznam zvířat k adopci v ZOO Praha. Zdroj dat je [Národní katalog otevřených dat](https://data.gov.cz/)."
   ]
  },
  {
   "cell_type": "markdown",
   "metadata": {},
   "source": [
    "\n",
    "* Data si načti pomocí metody `pandas.read_csv()`. Pozor, nastav oddělovač na znak středníku. Využij parametr `sep`.\n"
   ]
  },
  {
   "cell_type": "code",
   "execution_count": 10,
   "metadata": {},
   "outputs": [],
   "source": [
    "import pandas\n",
    "seznam_zvirat = pandas.read_csv(\"adopce-zvirat.csv\", sep=\";\")"
   ]
  },
  {
   "cell_type": "markdown",
   "metadata": {},
   "source": [
    "\n",
    "* Seznam se s daty. Kolik má tabulka řádek a sloupců? Jak se sloupce jmenují?\n"
   ]
  },
  {
   "cell_type": "code",
   "execution_count": 13,
   "metadata": {},
   "outputs": [
    {
     "name": "stdout",
     "output_type": "stream",
     "text": [
      "Tabulka má počet řádků: 513.\n",
      "Tabulka má počet sloupců: 6.\n",
      "Tabulka obsahuje tyto sloupce: ['id' 'nazev_cz' 'nazev_en' 'trida_cz' 'cena' 'k_prohlidce'].\n"
     ]
    }
   ],
   "source": [
    "print(f\"Tabulka má počet řádků: {seznam_zvirat.shape[0]}.\")\n",
    "print(f\"Tabulka má počet sloupců: {seznam_zvirat.shape[1]}.\")\n",
    "\n",
    "print(f\"Tabulka obsahuje tyto sloupce: {seznam_zvirat.columns.values}.\")\n",
    "\n",
    "# seznam_zvirat.info()"
   ]
  },
  {
   "cell_type": "markdown",
   "metadata": {},
   "source": [
    "\n",
    "* Které zvíře se nachází na záznamu s indexem 34? Vypiš pomocí `iloc` název tohoto zvířete v češtině i angličtině.\n"
   ]
  },
  {
   "cell_type": "code",
   "execution_count": 3,
   "metadata": {},
   "outputs": [
    {
     "data": {
      "text/html": [
       "<div>\n",
       "<style scoped>\n",
       "    .dataframe tbody tr th:only-of-type {\n",
       "        vertical-align: middle;\n",
       "    }\n",
       "\n",
       "    .dataframe tbody tr th {\n",
       "        vertical-align: top;\n",
       "    }\n",
       "\n",
       "    .dataframe thead th {\n",
       "        text-align: right;\n",
       "    }\n",
       "</style>\n",
       "<table border=\"1\" class=\"dataframe\">\n",
       "  <thead>\n",
       "    <tr style=\"text-align: right;\">\n",
       "      <th></th>\n",
       "      <th>nazev_cz</th>\n",
       "      <th>nazev_en</th>\n",
       "    </tr>\n",
       "  </thead>\n",
       "  <tbody>\n",
       "    <tr>\n",
       "      <th>34</th>\n",
       "      <td>Ibis bílý</td>\n",
       "      <td>White ibis</td>\n",
       "    </tr>\n",
       "  </tbody>\n",
       "</table>\n",
       "</div>"
      ],
      "text/plain": [
       "     nazev_cz    nazev_en\n",
       "34  Ibis bílý  White ibis"
      ]
     },
     "execution_count": 3,
     "metadata": {},
     "output_type": "execute_result"
    }
   ],
   "source": [
    "seznam_zvirat.iloc[[34],[1,2]]"
   ]
  },
  {
   "cell_type": "markdown",
   "metadata": {},
   "source": [
    "\n",
    "## Bonus\n",
    "\n",
    "V lekci jsme zmínili, že existují i jiné typy indexů, než jen číselný, který sám vyrobí `pandas`. Například v kontextu souboru se zvířaty se nabízí hned několik sloupců, které bychom mohli využít jako index, které nejsou číselné. \n"
   ]
  },
  {
   "cell_type": "markdown",
   "metadata": {},
   "source": [
    "\n",
    "* Načti znovu data, ale tentokrát nastav parametr `index_col` na název sloupce, který obsahuje název zvířete v češtině. Všimni si, že sloupec teď povýší na index a už se nenachází mezi \"běžnými\" sloupci.\n"
   ]
  },
  {
   "cell_type": "code",
   "execution_count": 4,
   "metadata": {},
   "outputs": [],
   "source": [
    "seznam_zvirat_2 = pandas.read_csv(\"adopce-zvirat.csv\", sep=\";\", index_col=\"nazev_cz\")"
   ]
  },
  {
   "cell_type": "markdown",
   "metadata": {},
   "source": [
    "\n",
    "* Pomocí `<tvoje-promenna>.index.is_unique` ověř, zda je nový index unikátní.\n"
   ]
  },
  {
   "cell_type": "code",
   "execution_count": 5,
   "metadata": {},
   "outputs": [
    {
     "data": {
      "text/plain": [
       "True"
      ]
     },
     "execution_count": 5,
     "metadata": {},
     "output_type": "execute_result"
    }
   ],
   "source": [
    "seznam_zvirat_2.index.is_unique"
   ]
  },
  {
   "cell_type": "markdown",
   "metadata": {},
   "source": [
    "\n",
    "* Seřazený index je efektivnější a přehlednější. Seřaď index pomocí metody `.sort_index()`. Bacha, metoda vrátí novou tabulku se seřazeným indexem. Budeš tedy chtít přepsat původní tabulku.\n"
   ]
  },
  {
   "cell_type": "code",
   "execution_count": 6,
   "metadata": {},
   "outputs": [],
   "source": [
    "seznam_zvirat_2 = seznam_zvirat_2.sort_index()"
   ]
  },
  {
   "cell_type": "markdown",
   "metadata": {},
   "source": [
    "\n",
    "* Vyhledej řádek indexovaný názvem `\"Outloň váhavý\"`. Namísto metody `.iloc` využij `.loc`.\n"
   ]
  },
  {
   "cell_type": "code",
   "execution_count": 7,
   "metadata": {},
   "outputs": [
    {
     "data": {
      "text/plain": [
       "id                          749\n",
       "nazev_en       Sunda slow loris\n",
       "trida_cz                  Savci\n",
       "cena                       2000\n",
       "k_prohlidce                   1\n",
       "Name: Outloň váhavý, dtype: object"
      ]
     },
     "execution_count": 7,
     "metadata": {},
     "output_type": "execute_result"
    }
   ],
   "source": [
    "seznam_zvirat_2.loc[\"Outloň váhavý\"]"
   ]
  },
  {
   "cell_type": "markdown",
   "metadata": {},
   "source": [
    "\n",
    "* Rozsahy fungují podobně jako u číselných indexů. Vyhledej záznamy mezi `\"Želva Smithova\"` a `\"Želva žlutočelá\"`.\n"
   ]
  },
  {
   "cell_type": "code",
   "execution_count": 8,
   "metadata": {},
   "outputs": [
    {
     "data": {
      "text/html": [
       "<div>\n",
       "<style scoped>\n",
       "    .dataframe tbody tr th:only-of-type {\n",
       "        vertical-align: middle;\n",
       "    }\n",
       "\n",
       "    .dataframe tbody tr th {\n",
       "        vertical-align: top;\n",
       "    }\n",
       "\n",
       "    .dataframe thead th {\n",
       "        text-align: right;\n",
       "    }\n",
       "</style>\n",
       "<table border=\"1\" class=\"dataframe\">\n",
       "  <thead>\n",
       "    <tr style=\"text-align: right;\">\n",
       "      <th></th>\n",
       "      <th>id</th>\n",
       "      <th>nazev_en</th>\n",
       "      <th>trida_cz</th>\n",
       "      <th>cena</th>\n",
       "      <th>k_prohlidce</th>\n",
       "    </tr>\n",
       "    <tr>\n",
       "      <th>nazev_cz</th>\n",
       "      <th></th>\n",
       "      <th></th>\n",
       "      <th></th>\n",
       "      <th></th>\n",
       "      <th></th>\n",
       "    </tr>\n",
       "  </thead>\n",
       "  <tbody>\n",
       "    <tr>\n",
       "      <th>Želva Smithova</th>\n",
       "      <td>1117</td>\n",
       "      <td>Brown roof turtle</td>\n",
       "      <td>Plazi</td>\n",
       "      <td>1000</td>\n",
       "      <td>1</td>\n",
       "    </tr>\n",
       "    <tr>\n",
       "      <th>Želva amboinská</th>\n",
       "      <td>479</td>\n",
       "      <td>Malayan box turtle</td>\n",
       "      <td>Plazi</td>\n",
       "      <td>1000</td>\n",
       "      <td>1</td>\n",
       "    </tr>\n",
       "    <tr>\n",
       "      <th>Želva annámská</th>\n",
       "      <td>478</td>\n",
       "      <td>Vietnamese pond turtle</td>\n",
       "      <td>Plazi</td>\n",
       "      <td>1000</td>\n",
       "      <td>1</td>\n",
       "    </tr>\n",
       "    <tr>\n",
       "      <th>Želva bahenní</th>\n",
       "      <td>1115</td>\n",
       "      <td>European pond turtle</td>\n",
       "      <td>Plazi</td>\n",
       "      <td>1000</td>\n",
       "      <td>1</td>\n",
       "    </tr>\n",
       "    <tr>\n",
       "      <th>Želva dlaždicovitá</th>\n",
       "      <td>1338</td>\n",
       "      <td>Impressed tortoise</td>\n",
       "      <td>Plazi</td>\n",
       "      <td>3000</td>\n",
       "      <td>1</td>\n",
       "    </tr>\n",
       "    <tr>\n",
       "      <th>Želva egyptská</th>\n",
       "      <td>980</td>\n",
       "      <td>Egyptian tortoise</td>\n",
       "      <td>Plazi</td>\n",
       "      <td>1000</td>\n",
       "      <td>1</td>\n",
       "    </tr>\n",
       "    <tr>\n",
       "      <th>Želva hvězdnatá</th>\n",
       "      <td>1412</td>\n",
       "      <td></td>\n",
       "      <td>Plazi</td>\n",
       "      <td>1500</td>\n",
       "      <td>1</td>\n",
       "    </tr>\n",
       "    <tr>\n",
       "      <th>Želva korunkatá</th>\n",
       "      <td>1112</td>\n",
       "      <td>Crowned river turtle</td>\n",
       "      <td>Plazi</td>\n",
       "      <td>2000</td>\n",
       "      <td>1</td>\n",
       "    </tr>\n",
       "    <tr>\n",
       "      <th>Želva kubánská</th>\n",
       "      <td>830</td>\n",
       "      <td>North Antillean slider</td>\n",
       "      <td>Plazi</td>\n",
       "      <td>1000</td>\n",
       "      <td>1</td>\n",
       "    </tr>\n",
       "    <tr>\n",
       "      <th>Želva obrovská</th>\n",
       "      <td>40</td>\n",
       "      <td>Aldabra giant tortoise</td>\n",
       "      <td>Plazi</td>\n",
       "      <td>5000</td>\n",
       "      <td>1</td>\n",
       "    </tr>\n",
       "    <tr>\n",
       "      <th>Želva ostnitá</th>\n",
       "      <td>1255</td>\n",
       "      <td>Spiny turtle</td>\n",
       "      <td>Plazi</td>\n",
       "      <td>2000</td>\n",
       "      <td>1</td>\n",
       "    </tr>\n",
       "    <tr>\n",
       "      <th>Želva pardálí</th>\n",
       "      <td>763</td>\n",
       "      <td>Leopard tortoise</td>\n",
       "      <td>Plazi</td>\n",
       "      <td>2000</td>\n",
       "      <td>1</td>\n",
       "    </tr>\n",
       "    <tr>\n",
       "      <th>Želva plochohřbetá</th>\n",
       "      <td>987</td>\n",
       "      <td>Malayan flat-shelled turtle</td>\n",
       "      <td>Plazi</td>\n",
       "      <td>2000</td>\n",
       "      <td>1</td>\n",
       "    </tr>\n",
       "    <tr>\n",
       "      <th>Želva skalní</th>\n",
       "      <td>41</td>\n",
       "      <td>Pancake tortoise</td>\n",
       "      <td>Plazi</td>\n",
       "      <td>1000</td>\n",
       "      <td>1</td>\n",
       "    </tr>\n",
       "    <tr>\n",
       "      <th>Želva sloní</th>\n",
       "      <td>39</td>\n",
       "      <td>Galapagos tortoise</td>\n",
       "      <td>Plazi</td>\n",
       "      <td>5000</td>\n",
       "      <td>1</td>\n",
       "    </tr>\n",
       "    <tr>\n",
       "      <th>Želva stepní (= čtyřprstá)</th>\n",
       "      <td>38</td>\n",
       "      <td>Russian tortoise</td>\n",
       "      <td>Plazi</td>\n",
       "      <td>1500</td>\n",
       "      <td>1</td>\n",
       "    </tr>\n",
       "    <tr>\n",
       "      <th>Želva texaská (= Berlandierova)</th>\n",
       "      <td>1096</td>\n",
       "      <td>Texas tortoise</td>\n",
       "      <td>Plazi</td>\n",
       "      <td>1000</td>\n",
       "      <td>1</td>\n",
       "    </tr>\n",
       "    <tr>\n",
       "      <th>Želva tlustohrdlá</th>\n",
       "      <td>772</td>\n",
       "      <td>Malaysian black mud turtle</td>\n",
       "      <td>Plazi</td>\n",
       "      <td>1000</td>\n",
       "      <td>1</td>\n",
       "    </tr>\n",
       "    <tr>\n",
       "      <th>Želva tuniská</th>\n",
       "      <td>1160</td>\n",
       "      <td>Tunisian spur-thighed tortoise</td>\n",
       "      <td>Plazi</td>\n",
       "      <td>1000</td>\n",
       "      <td>1</td>\n",
       "    </tr>\n",
       "    <tr>\n",
       "      <th>Želva zubatá</th>\n",
       "      <td>771</td>\n",
       "      <td>Asian leaf turtle</td>\n",
       "      <td>Plazi</td>\n",
       "      <td>1000</td>\n",
       "      <td>1</td>\n",
       "    </tr>\n",
       "    <tr>\n",
       "      <th>Želva černavá</th>\n",
       "      <td>673</td>\n",
       "      <td>Giant Asian pond turtle</td>\n",
       "      <td>Plazi</td>\n",
       "      <td>2000</td>\n",
       "      <td>1</td>\n",
       "    </tr>\n",
       "    <tr>\n",
       "      <th>Želva žlutočelá</th>\n",
       "      <td>37</td>\n",
       "      <td>Indochinese box turtle</td>\n",
       "      <td>Plazi</td>\n",
       "      <td>1000</td>\n",
       "      <td>1</td>\n",
       "    </tr>\n",
       "  </tbody>\n",
       "</table>\n",
       "</div>"
      ],
      "text/plain": [
       "                                   id                        nazev_en  \\\n",
       "nazev_cz                                                                \n",
       "Želva Smithova                   1117               Brown roof turtle   \n",
       "Želva amboinská                   479              Malayan box turtle   \n",
       "Želva annámská                    478          Vietnamese pond turtle   \n",
       "Želva bahenní                    1115            European pond turtle   \n",
       "Želva dlaždicovitá               1338              Impressed tortoise   \n",
       "Želva egyptská                    980               Egyptian tortoise   \n",
       "Želva hvězdnatá                  1412                                   \n",
       "Želva korunkatá                  1112            Crowned river turtle   \n",
       "Želva kubánská                    830          North Antillean slider   \n",
       "Želva obrovská                     40          Aldabra giant tortoise   \n",
       "Želva ostnitá                    1255                    Spiny turtle   \n",
       "Želva pardálí                     763                Leopard tortoise   \n",
       "Želva plochohřbetá                987     Malayan flat-shelled turtle   \n",
       "Želva skalní                       41                Pancake tortoise   \n",
       "Želva sloní                        39              Galapagos tortoise   \n",
       "Želva stepní (= čtyřprstá)         38                Russian tortoise   \n",
       "Želva texaská (= Berlandierova)  1096                  Texas tortoise   \n",
       "Želva tlustohrdlá                 772      Malaysian black mud turtle   \n",
       "Želva tuniská                    1160  Tunisian spur-thighed tortoise   \n",
       "Želva zubatá                      771               Asian leaf turtle   \n",
       "Želva černavá                     673         Giant Asian pond turtle   \n",
       "Želva žlutočelá                    37          Indochinese box turtle   \n",
       "\n",
       "                                trida_cz  cena  k_prohlidce  \n",
       "nazev_cz                                                     \n",
       "Želva Smithova                     Plazi  1000            1  \n",
       "Želva amboinská                    Plazi  1000            1  \n",
       "Želva annámská                     Plazi  1000            1  \n",
       "Želva bahenní                      Plazi  1000            1  \n",
       "Želva dlaždicovitá                 Plazi  3000            1  \n",
       "Želva egyptská                     Plazi  1000            1  \n",
       "Želva hvězdnatá                    Plazi  1500            1  \n",
       "Želva korunkatá                    Plazi  2000            1  \n",
       "Želva kubánská                     Plazi  1000            1  \n",
       "Želva obrovská                     Plazi  5000            1  \n",
       "Želva ostnitá                      Plazi  2000            1  \n",
       "Želva pardálí                      Plazi  2000            1  \n",
       "Želva plochohřbetá                 Plazi  2000            1  \n",
       "Želva skalní                       Plazi  1000            1  \n",
       "Želva sloní                        Plazi  5000            1  \n",
       "Želva stepní (= čtyřprstá)         Plazi  1500            1  \n",
       "Želva texaská (= Berlandierova)    Plazi  1000            1  \n",
       "Želva tlustohrdlá                  Plazi  1000            1  \n",
       "Želva tuniská                      Plazi  1000            1  \n",
       "Želva zubatá                       Plazi  1000            1  \n",
       "Želva černavá                      Plazi  2000            1  \n",
       "Želva žlutočelá                    Plazi  1000            1  "
      ]
     },
     "execution_count": 8,
     "metadata": {},
     "output_type": "execute_result"
    }
   ],
   "source": [
    "seznam_zvirat_2.loc[\"Želva Smithova\":\"Želva žlutočelá\"]"
   ]
  },
  {
   "cell_type": "code",
   "execution_count": 9,
   "metadata": {},
   "outputs": [],
   "source": [
    "## Razeni se u specialnich znaku a ceske diakritiky chova divne.\n",
    "## Ridi se ASCII kodovanim, resp. Windows-1250 pro ceske znaky.\n",
    "## Co s tim?\n",
    "\n",
    "#!pip install unidecode\n",
    "from unidecode import unidecode\n",
    "\n",
    "seznam_zvirat[\"nazev_cz\"] = seznam_zvirat[\"nazev_cz\"].apply(unidecode) ## nahrazeni specialnich znaku v Series\n",
    "seznam_zvirat_2.index = seznam_zvirat_2.index.map(unidecode) ## nahrazeni specialnich znaku v indexu"
   ]
  }
 ],
 "metadata": {
  "kernelspec": {
   "display_name": "Python 3.10.1 64-bit",
   "language": "python",
   "name": "python3"
  },
  "language_info": {
   "codemirror_mode": {
    "name": "ipython",
    "version": 3
   },
   "file_extension": ".py",
   "mimetype": "text/x-python",
   "name": "python",
   "nbconvert_exporter": "python",
   "pygments_lexer": "ipython3",
   "version": "3.10.1"
  },
  "orig_nbformat": 4,
  "vscode": {
   "interpreter": {
    "hash": "aee8b7b246df8f9039afb4144a1f6fd8d2ca17a180786b69acc140d282b71a49"
   }
  }
 },
 "nbformat": 4,
 "nbformat_minor": 2
}
