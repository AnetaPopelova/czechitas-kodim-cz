{
 "cells": [
  {
   "cell_type": "markdown",
   "metadata": {},
   "source": [
    "# Cvičení: Vícerozměrné struktury"
   ]
  },
  {
   "attachments": {},
   "cell_type": "markdown",
   "metadata": {},
   "source": [
    "## 1 Stříbrná medaile\n",
    "\n",
    "Stříbrná medaile je sice úžasný úspěch, ale kdo by nechtěl vyhrát? \n",
    "\n",
    "Podívejme se, kolik chybělo stříbrnému běžci k vítězství.\n",
    "\n",
    "Nejprve si vytvoř dvě proměnné, do kterých ulož čas vítěze a čas závodníka se stříbrnou medailí. \n",
    "\n",
    "Oba časy převeď na minuty a ulož jako číslo.\n",
    "\n",
    "Vypočti rozdíl obou proměnných. \n",
    "\n",
    "Tím zjistíš, kolik minut chybělo stříbrnému závodníku k vítězství."
   ]
  },
  {
   "cell_type": "code",
   "execution_count": 4,
   "metadata": {},
   "outputs": [],
   "source": [
    "vysledky = [\n",
    "    [\"Brunner Radek\", [3, 0, 9]], \n",
    "    [\"Urban Jaroslav\", [3, 11, 44]], \n",
    "    [\"Andrle Jakub\", [3, 12, 21]], \n",
    "    [\"Fiala Stanislav\", [3, 13, 31]]\n",
    "]"
   ]
  },
  {
   "cell_type": "code",
   "execution_count": 5,
   "metadata": {},
   "outputs": [
    {
     "name": "stdout",
     "output_type": "stream",
     "text": [
      "Stříbrnému závodníkovi chybělo k vítězství -11.583333333333314 minut.\n"
     ]
    }
   ],
   "source": [
    "cas_viteze = vysledky[0][1]\n",
    "cas_stribrneho = vysledky[1][1]\n",
    "\n",
    "# převeď časy na minuty\n",
    "cas_viteze_v_minutach = cas_viteze[0] * 60 + cas_viteze[1] + cas_viteze[2] / 60\n",
    "cas_stribrneho_v_minutach = cas_stribrneho[0] * 60 + cas_stribrneho[1] + cas_stribrneho[2] / 60\n",
    "\n",
    "# spočti rozdíl v minutách\n",
    "rozdil_v_minutach = cas_viteze_v_minutach - cas_stribrneho_v_minutach\n",
    "\n",
    "print(f\"Stříbrnému závodníkovi chybělo k vítězství {rozdil_v_minutach} minut.\")"
   ]
  },
  {
   "attachments": {},
   "cell_type": "markdown",
   "metadata": {},
   "source": [
    "## 2 Závody podruhé\n",
    "\n",
    "Zadání je podobné jako u předchozího příkladu, ale nyní zkusíme výpočet provést pro všechny závodníky.\n",
    "\n",
    "Nejprve (pomocí cyklu a metody append()) vytvoř dvourozměrný seznam, kde na nulté pozici vnořeného seznamu je číslo běžce a na první pozici je čas běžce v minutách jako desetinné číslo.\n",
    "\n",
    "Ve druhém kroku (opět pomocí cyklu a metody append()) vytvoř další dvourozměrný seznam, kde na nulté pozici vnořeného seznamu je číslo běžce a na první pozici je rozdíl času běžce oproti času vítěze v minutách. \n",
    "\n",
    "Jinak řečeno, bude tam číslo, které udává, o kolik by běžec musel být rychlejší, aby závod vyhrál."
   ]
  },
  {
   "cell_type": "code",
   "execution_count": 6,
   "metadata": {},
   "outputs": [
    {
     "name": "stdout",
     "output_type": "stream",
     "text": [
      "[['Brunner Radek', 0.0], ['Urban Jaroslav', 11.583333333333314], ['Andrle Jakub', 12.199999999999989], ['Fiala Stanislav', 13.366666666666674]]\n"
     ]
    }
   ],
   "source": [
    "# Vytvoř prázdný seznam pro časy běžců\n",
    "cas_bezcu = []\n",
    "\n",
    "# Projdi všechny závodníky a převeď jejich čas na minuty\n",
    "for zavodnik in vysledky:\n",
    "    jmeno = zavodnik[0]\n",
    "    cas = zavodnik[1]\n",
    "    cas_v_minutach = cas[0] * 60 + cas[1] + cas[2] / 60\n",
    "    cas_bezcu.append([jmeno, cas_v_minutach])\n",
    "\n",
    "# Najdi čas vítěze\n",
    "cas_viteze = cas_bezcu[0][1]\n",
    "\n",
    "# Vytvoř prázdný seznam pro rozdíly časů\n",
    "rozdily_casu = []\n",
    "\n",
    "# Projdi všechny běžce a spočti rozdíl času oproti vítězi\n",
    "for zavodnik in cas_bezcu:\n",
    "    jmeno = zavodnik[0]\n",
    "    cas = zavodnik[1]\n",
    "    rozdil = cas - cas_viteze\n",
    "    rozdily_casu.append([jmeno, rozdil])\n",
    "\n",
    "print(rozdily_casu)\n"
   ]
  },
  {
   "cell_type": "code",
   "execution_count": null,
   "metadata": {},
   "outputs": [],
   "source": []
  }
 ],
 "metadata": {
  "kernelspec": {
   "display_name": "Python 3",
   "language": "python",
   "name": "python3"
  },
  "language_info": {
   "codemirror_mode": {
    "name": "ipython",
    "version": 3
   },
   "file_extension": ".py",
   "mimetype": "text/x-python",
   "name": "python",
   "nbconvert_exporter": "python",
   "pygments_lexer": "ipython3",
   "version": "3.10.1"
  },
  "orig_nbformat": 4
 },
 "nbformat": 4,
 "nbformat_minor": 2
}
