{
 "cells": [
  {
   "cell_type": "code",
   "execution_count": null,
   "metadata": {},
   "outputs": [],
   "source": [
    "# 1 Seznamy čísel (pohodička)\n",
    "# Mějme zadaný následující seznam\n",
    "\n",
    "cisla = [1.12, 4.51, 2.64, 13.1, 0.1]\n",
    "\n",
    "# Vytvořte seznam, který obsahuje:\n",
    "# každé z čísel ze seznamu cisla vynásobené dvěma:\n",
    "\n",
    "print([nasobeni*2 for nasobeni in cisla])\n",
    "\n",
    "# každé z čísel ze seznamu cisla s opačným znaménkem:\n",
    "print([nasobeni*-1 for nasobeni in cisla])\n",
    "\n",
    "# každé z čísel ze seznamu cisla umocněné na druhou:\n",
    "print([cislo*cislo for cislo in cisla])\n",
    "print([cislo**2 for cislo in cisla])\n",
    "\n",
    "# každé z čísel ze seznamu cisla jako řetězec.\n",
    "print([str(cislo) for cislo in cisla])   #asi toto má být výsledek. Těžko říct\n",
    "\n",
    "\n"
   ]
  },
  {
   "cell_type": "code",
   "execution_count": null,
   "metadata": {},
   "outputs": [],
   "source": [
    "#-----------------------------------------------------------------------------------------------\n",
    "# 2 Seznamy řetězců (to dáš)\n",
    "# Mějme zadaný následující seznam\n",
    "\n",
    "jmena = ['Roman', 'Jan', 'Miroslav', 'Petr', 'Gabriel']\n",
    "\n",
    "# Vytvořte seznam, který obsahuje:\n",
    "\n",
    "# počty písmen ve všech jménech:\n",
    "print([len(jmeno) for jmeno in jmena])\n",
    "\n",
    "# všechna jména napsaná velkými písmeny:\n",
    "print([jmeno.upper() for jmeno in jmena])\n",
    "\n",
    "# všechna jména plus písmeno 'a' na konci (stanou se z nich tedy ženská jména):\n",
    "print([jmeno+\"a\" for jmeno in jmena])\n",
    "\n",
    "# všechna jména převedená na malá písmena s koncovkou '@email.cz':\n",
    "print([jmeno.lower()+\"@email.cz\" for jmeno in jmena])\n",
    "\n"
   ]
  },
  {
   "cell_type": "code",
   "execution_count": null,
   "metadata": {},
   "outputs": [],
   "source": [
    "#-----------------------------------------------------------------------------------------------\n",
    "# 3 Seznam teplot (zapni hlavu)\n",
    "# Mějme zadaný následující seznam naměřených teplot.\n",
    "# Seznam obsahuje teploty naměřené pro každý den v týdnu ve čtyřech časech - ráno, v poledne, večer a v noci.\n",
    "\n",
    "# seznam v seznamu (tuším říkala, rozhodně to není slovník v seznamu, to by tam byli skládané závorky)\n",
    "\n",
    "teploty = [\n",
    "    [2.1, 5.2, 6.1, -0.1],\n",
    "    [2.2, 4.8, 5.6, -1.0],\n",
    "    [3.3, 6.5, 5.9, 1.2],\n",
    "    [2.9, 5.6, 6.0, 0.0],\n",
    "    [2.0, 4.6, 5.5, -1.2],\n",
    "    [1.0, 3.2, 2.1, -2.0],\n",
    "    [0.4, 2.7, 1.3, -2.8]\n",
    "]\n",
    "\n",
    "# sečíst teploty v řádcích:\n",
    "soucty = [sum(teplota) for teplota in teploty]\n",
    "print(soucty)\n",
    "\n",
    "# Vytvořte seznam průměrných teplot pro každý den\n",
    "prumer = [sum(teplota)/len(teplota) for teplota in teploty]\n",
    "print(prumer)\n",
    "\n",
    "# Vytvořte seznam ranních teplot.\n",
    "print([teplota[0] for teplota in teploty])\n",
    "\n",
    "# Vytvořte seznam nočních teplot.\n",
    "print([teplota[3] for teplota in teploty])\n",
    "\n",
    "# Vytvořte seznam dvouprvkových seznamů obsahujících pouze polední a noční teplotu.\n",
    "dvojice =[[str(teplota[1]) + \",\" + str(teplota[2])] for teplota in teploty]\n",
    "print(dvojice)\n",
    "\n",
    "# Spočítejte celkovou průměrnou teplotu za celý týden.\n",
    "def prumer(seznam):\n",
    "    return sum(seznam) / len(seznam)\n",
    "\n",
    "prumerna_teplota = prumer([teplota for den in teploty for teplota in den])\n",
    "\n"
   ]
  }
 ],
 "metadata": {
  "kernelspec": {
   "display_name": "Python 3.10.1 64-bit",
   "language": "python",
   "name": "python3"
  },
  "language_info": {
   "codemirror_mode": {
    "name": "ipython",
    "version": 3
   },
   "file_extension": ".py",
   "mimetype": "text/x-python",
   "name": "python",
   "nbconvert_exporter": "python",
   "pygments_lexer": "ipython3",
   "version": "3.10.1"
  },
  "orig_nbformat": 4,
  "vscode": {
   "interpreter": {
    "hash": "aee8b7b246df8f9039afb4144a1f6fd8d2ca17a180786b69acc140d282b71a49"
   }
  }
 },
 "nbformat": 4,
 "nbformat_minor": 2
}
