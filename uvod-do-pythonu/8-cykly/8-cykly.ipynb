{
 "cells": [
  {
   "cell_type": "markdown",
   "metadata": {},
   "source": [
    "# Cykly"
   ]
  },
  {
   "cell_type": "markdown",
   "metadata": {},
   "source": [
    "## Cyklus FOR\n",
    "\n"
   ]
  },
  {
   "cell_type": "code",
   "execution_count": 1,
   "metadata": {},
   "outputs": [
    {
     "name": "stdout",
     "output_type": "stream",
     "text": [
      "1\n",
      "3\n",
      "2\n",
      "1\n",
      "1\n",
      "2\n"
     ]
    }
   ],
   "source": [
    "znamky = [1, 3, 2, 1, 1, 2]\n",
    "for z in znamky:\n",
    "    print(z)"
   ]
  },
  {
   "cell_type": "code",
   "execution_count": 2,
   "metadata": {},
   "outputs": [
    {
     "name": "stdout",
     "output_type": "stream",
     "text": [
      "petr@gmail.com\n",
      "pavel@gmail.com\n",
      "jitka@gmail.com\n",
      "jana@gmail.com\n"
     ]
    }
   ],
   "source": [
    "jmena = ['petr', 'pavel', 'jitka', 'jana']\n",
    "for jmeno in jmena:\n",
    "    mail = jmeno + '@gmail.com'\n",
    "    print(mail)"
   ]
  },
  {
   "cell_type": "code",
   "execution_count": 3,
   "metadata": {},
   "outputs": [
    {
     "name": "stdout",
     "output_type": "stream",
     "text": [
      "Počet jedniček: 3\n"
     ]
    }
   ],
   "source": [
    "znamky = [1, 3, 2, 1, 1, 2]\n",
    "\n",
    "pocet_jednicek = 0\n",
    "for z in znamky:\n",
    "    if z == 1:\n",
    "        pocet_jednicek = pocet_jednicek + 1\n",
    "\n",
    "print(\"Počet jedniček:\", pocet_jednicek)"
   ]
  },
  {
   "cell_type": "code",
   "execution_count": 6,
   "metadata": {},
   "outputs": [
    {
     "name": "stdout",
     "output_type": "stream",
     "text": [
      "92\n"
     ]
    }
   ],
   "source": [
    "cisla = [9, 37, 22, 10, 11, 3]\n",
    "\n",
    "soucet = 0\n",
    "for cislo in cisla:\n",
    "    soucet = soucet + cislo\n",
    "\n",
    "print(soucet)"
   ]
  },
  {
   "cell_type": "code",
   "execution_count": null,
   "metadata": {},
   "outputs": [],
   "source": []
  }
 ],
 "metadata": {
  "kernelspec": {
   "display_name": "Python 3",
   "language": "python",
   "name": "python3"
  },
  "language_info": {
   "codemirror_mode": {
    "name": "ipython",
    "version": 3
   },
   "file_extension": ".py",
   "mimetype": "text/x-python",
   "name": "python",
   "nbconvert_exporter": "python",
   "pygments_lexer": "ipython3",
   "version": "3.10.1"
  },
  "orig_nbformat": 4,
  "vscode": {
   "interpreter": {
    "hash": "aee8b7b246df8f9039afb4144a1f6fd8d2ca17a180786b69acc140d282b71a49"
   }
  }
 },
 "nbformat": 4,
 "nbformat_minor": 2
}
