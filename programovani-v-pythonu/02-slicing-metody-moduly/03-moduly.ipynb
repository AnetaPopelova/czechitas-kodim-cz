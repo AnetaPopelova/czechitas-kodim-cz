{
 "cells": [
  {
   "cell_type": "markdown",
   "metadata": {},
   "source": [
    "# Cvičení: Moduly"
   ]
  },
  {
   "attachments": {},
   "cell_type": "markdown",
   "metadata": {},
   "source": [
    "## 1 Zaokrouhlování\n",
    "\n",
    "Napište program, který dostane na vstupu desetinné číslo a na výstup napíše toto číslo zaokrouhlené nejdříve nahoru, potom dolů a potom běžným Pythonovským zaokrouhlováním."
   ]
  },
  {
   "cell_type": "code",
   "execution_count": 1,
   "metadata": {},
   "outputs": [
    {
     "name": "stdout",
     "output_type": "stream",
     "text": [
      "Zaokrouhlení nahoru: 4\n",
      "Zaokrouhlení dolů: 3\n",
      "Běžné zaokrouhlení: 3\n"
     ]
    }
   ],
   "source": [
    "import math\n",
    "\n",
    "x = float(input(\"Zadejte desetinné číslo: \"))\n",
    "\n",
    "print(\"Zaokrouhlení nahoru:\", math.ceil(x))\n",
    "print(\"Zaokrouhlení dolů:\", math.floor(x))\n",
    "print(\"Běžné zaokrouhlení:\", round(x))"
   ]
  },
  {
   "attachments": {},
   "cell_type": "markdown",
   "metadata": {},
   "source": [
    "## BONUSY"
   ]
  },
  {
   "attachments": {},
   "cell_type": "markdown",
   "metadata": {},
   "source": [
    "# 2 Přijímačky a moduly\n",
    "\n",
    "Uvažujme vysvědčení studenta, které máme uložené jako seznam.\n",
    "\n",
    "```\n",
    "school_report = [\n",
    "    [\"Český jazyk\", 1],\n",
    "    [\"Anglický jazyk\", 1],\n",
    "    [\"Matematika\", 1],\n",
    "    [\"Přírodopis\", 2],\n",
    "    [\"Dějepis\", 1],\n",
    "    [\"Fyzika\", 2],\n",
    "    [\"Hudební výchova\", 4],\n",
    "    [\"Výtvarná výchova\", 2],\n",
    "    [\"Tělesná výchova\", 3],\n",
    "    [\"Chemie\", 4],\n",
    "]\n",
    "```\n",
    "\n",
    "Uvažuj, že student se hlásí na školu, která vybírá studenty podle průměru. \n",
    "\n",
    "Pro školu jsou ale důležité pouze předměty český jazyk, anglický jazyk, matematika a fyzika. \n",
    "\n",
    "Vypočítej průměr studenta z daných předmětů s využitím modulu `statstics`. Na začátku vytvoř prázdný seznam a následně pomocí cyklu vlož do nového seznamu známky ze čtyř vyjmenovaných předmětů. \n",
    "\n",
    "Nakonec použij metodu `statistics.mean()` k výpočtu průměru. \n",
    "\n",
    "Dále zkus využít funkce, které jsou zmíněné v textu, k výpočtu nejlepší a nejhorší známky z daných předmětů.\n",
    "\n"
   ]
  },
  {
   "cell_type": "code",
   "execution_count": null,
   "metadata": {},
   "outputs": [],
   "source": [
    "import statistics\n",
    "\n",
    "school_report = [\n",
    "    [\"Český jazyk\", 1],\n",
    "    [\"Anglický jazyk\", 1],\n",
    "    [\"Matematika\", 1],\n",
    "    [\"Přírodopis\", 2],\n",
    "    [\"Dějepis\", 1],\n",
    "    [\"Fyzika\", 2],\n",
    "    [\"Hudební výchova\", 4],\n",
    "    [\"Výtvarná výchova\", 2],\n",
    "    [\"Tělesná výchova\", 3],\n",
    "    [\"Chemie\", 4],\n",
    "]\n",
    "\n",
    "\n",
    "prumer = []\n",
    "for item in school_report:\n",
    "    if item[0] in [\"Český jazyk\", \"Anglický jazyk\", \"Matematika\", \"Fyzika\"]:\n",
    "        prumer.append(item[1])\n",
    "prumer_studenta = statistics.mean(prumer)\n",
    "print(f\"Průměr studenta je {prumer_studenta}\")\n",
    "\n",
    "# výpočet nejlepší a nejhorší známky pro dané předměty\n",
    "for predmet in [\"Český jazyk\", \"Anglický jazyk\", \"Matematika\", \"Fyzika\"]:\n",
    "    známky = [item[1] for item in school_report if item[0] == predmet]\n",
    "    if známky:\n",
    "        nejlepší = max(známky)\n",
    "        nejhorší = min(známky)\n",
    "        print(f\"Nejlepší známka z predmetu {predmet} je {nejlepší}\")\n",
    "        print(f\"Nejhorší známka z predmetu {predmet} je {nejhorší}\")\n",
    "\n"
   ]
  },
  {
   "attachments": {},
   "cell_type": "markdown",
   "metadata": {},
   "source": [
    "## 3 Přijímačky a moduly\n",
    "\n",
    "Ve statistice existuje ukazatel zvaný modus, který vrátí nejčastější hodnotu v datech. V modulu statistics existuje funkce `mode()`, která umí modus spočítat. Funkce `mode()` má navíc vychytávku, umí pracovat i s řetězci.\n",
    "\n",
    "Uvažuj data v seznamu votes, což je hlasování zaměstnanců malé firmy o tom, jakou akci podniknou během jejich vánočního večírku. Použij funkce `mode()` ke zjištění, pro jakou aktivitu hlasovalo nejvíce zaměstnanců. Funkce má jeden parametr - seznam, ze kterého má určit nejčastější prvek.\n",
    "\n",
    "```\n",
    "votes = [\n",
    "    \"curling\", \n",
    "    \"vánoční svařák na trzích\", \n",
    "    \"vánoční svařák na trzích\", \n",
    "    \"curling\", \n",
    "    \"zážitková první pomoc\",\n",
    "    \"curling\", \n",
    "    \"zážitková první pomoc\",\n",
    "    \"curling\",\n",
    "    \"zážitková první pomoc\",\n",
    "    ]\n",
    "```\n",
    "\n",
    "Můžeš se podívat i na popis funkce v dokumentaci, která obsahuje i příklad s použitím řetězců."
   ]
  },
  {
   "cell_type": "code",
   "execution_count": 2,
   "metadata": {},
   "outputs": [
    {
     "name": "stdout",
     "output_type": "stream",
     "text": [
      "Nejčastěji hlasovali pro: curling\n"
     ]
    }
   ],
   "source": [
    "import statistics\n",
    "\n",
    "votes = [\"curling\", \n",
    "        \"vánoční svařák na trzích\",\n",
    "        \"vánoční svařák na trzích\",     \n",
    "        \"curling\",     \n",
    "        \"zážitková první pomoc\",    \n",
    "        \"curling\",     \n",
    "        \"zážitková první pomoc\",    \n",
    "        \"curling\",    \n",
    "        \"zážitková první pomoc\",\n",
    "        ]\n",
    "\n",
    "nejcastejsi_hlas = statistics.mode(votes)\n",
    "print(\"Nejčastěji hlasovali pro:\", nejcastejsi_hlas)"
   ]
  }
 ],
 "metadata": {
  "kernelspec": {
   "display_name": "Python 3",
   "language": "python",
   "name": "python3"
  },
  "language_info": {
   "codemirror_mode": {
    "name": "ipython",
    "version": 3
   },
   "file_extension": ".py",
   "mimetype": "text/x-python",
   "name": "python",
   "nbconvert_exporter": "python",
   "pygments_lexer": "ipython3",
   "version": "3.10.1"
  },
  "orig_nbformat": 4
 },
 "nbformat": 4,
 "nbformat_minor": 2
}
