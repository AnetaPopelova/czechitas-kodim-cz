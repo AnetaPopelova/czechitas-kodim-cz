{
 "cells": [
  {
   "attachments": {},
   "cell_type": "markdown",
   "metadata": {},
   "source": [
    "# Cvičení: Seznamy"
   ]
  },
  {
   "attachments": {},
   "cell_type": "markdown",
   "metadata": {},
   "source": [
    "## 1 Pohyby na účtu\n",
    "\n",
    "Mějme seznam pohybů na nějakém bankovním účtu:\n",
    "\n",
    "`pohyby = [1200, -250, -800, 540, 721, -613, -222]`\n",
    "\n",
    "1. Vypište v pořadí třetí pohyb z uvedeného seznamu.\n",
    "2. Vypište všechny pohyby kromě prvních dvou.\n",
    "3. Vypište kolik je všech pohybů dohromady.\n",
    "4. Pomocí volání vhodných funkcí vypište nejvyšší a nejnižší pohyb.\n",
    "5. Spočítejte celkový přírůstek na účtu za dané období. Pozor, že přírůstek může vyjít i záporný."
   ]
  },
  {
   "cell_type": "code",
   "execution_count": 1,
   "metadata": {},
   "outputs": [],
   "source": [
    "pohyby = [1200, -250, -800, 540, 721, -613, -222]"
   ]
  },
  {
   "cell_type": "code",
   "execution_count": 5,
   "metadata": {},
   "outputs": [
    {
     "data": {
      "text/plain": [
       "-800"
      ]
     },
     "execution_count": 5,
     "metadata": {},
     "output_type": "execute_result"
    }
   ],
   "source": [
    "# Vypište v pořadí třetí pohyb z uvedeného seznamu.\n",
    "pohyby[2]"
   ]
  },
  {
   "cell_type": "code",
   "execution_count": 4,
   "metadata": {},
   "outputs": [
    {
     "data": {
      "text/plain": [
       "[-800, 540, 721, -613, -222]"
      ]
     },
     "execution_count": 4,
     "metadata": {},
     "output_type": "execute_result"
    }
   ],
   "source": [
    "# Vypište všechny pohyby kromě prvních dvou.\n",
    "pohyby[2:]"
   ]
  },
  {
   "cell_type": "code",
   "execution_count": 6,
   "metadata": {},
   "outputs": [
    {
     "data": {
      "text/plain": [
       "7"
      ]
     },
     "execution_count": 6,
     "metadata": {},
     "output_type": "execute_result"
    }
   ],
   "source": [
    "# Vypište kolik je všech pohybů dohromady.\n",
    "len(pohyby)"
   ]
  },
  {
   "cell_type": "code",
   "execution_count": 8,
   "metadata": {},
   "outputs": [
    {
     "data": {
      "text/plain": [
       "1200"
      ]
     },
     "execution_count": 8,
     "metadata": {},
     "output_type": "execute_result"
    }
   ],
   "source": [
    "# Pomocí volání vhodných funkcí vypište nejvyšší a nejnižší pohyb.\n",
    "min(pohyby)\n",
    "max(pohyby)"
   ]
  },
  {
   "cell_type": "code",
   "execution_count": 9,
   "metadata": {},
   "outputs": [
    {
     "data": {
      "text/plain": [
       "576"
      ]
     },
     "execution_count": 9,
     "metadata": {},
     "output_type": "execute_result"
    }
   ],
   "source": [
    "# Spočítejte celkový přírůstek na účtu za dané období. Pozor, že přírůstek může vyjít i záporný.\n",
    "sum(pohyby)"
   ]
  },
  {
   "attachments": {},
   "cell_type": "markdown",
   "metadata": {},
   "source": [
    "## 2 Průměr"
   ]
  },
  {
   "attachments": {},
   "cell_type": "markdown",
   "metadata": {},
   "source": [
    "Mějme proměnnou `s`, ve které předpokládáme uložený nějaký seznam. \n",
    "\n",
    "Sestavte v výraz (vzoreček), který spočítá průměrnou hodnotu v takovém seznamu. \n",
    "\n",
    "Otestujte jej na seznamech různých délek."
   ]
  },
  {
   "cell_type": "code",
   "execution_count": 10,
   "metadata": {},
   "outputs": [
    {
     "data": {
      "text/plain": [
       "4.5"
      ]
     },
     "execution_count": 10,
     "metadata": {},
     "output_type": "execute_result"
    }
   ],
   "source": [
    "s = [1, 2, 3, 4, 5, 6, 7, 8]\n",
    "\n",
    "prumer = sum(s)/len(s)\n",
    "prumer\n",
    "\n",
    "# import statistics\n",
    "# prumer = statistics.mean(s)"
   ]
  },
  {
   "attachments": {},
   "cell_type": "markdown",
   "metadata": {},
   "source": [
    "## 3 Rozpětí"
   ]
  },
  {
   "attachments": {},
   "cell_type": "markdown",
   "metadata": {},
   "source": [
    "Postupujte obdobně jako v úložce Průměr, ale tentokrát sestavte výraz pro výpočet rozpětí, tedy rozdílu mezi minimální a maximální hodnotou."
   ]
  },
  {
   "cell_type": "code",
   "execution_count": 14,
   "metadata": {},
   "outputs": [
    {
     "data": {
      "text/plain": [
       "7"
      ]
     },
     "execution_count": 14,
     "metadata": {},
     "output_type": "execute_result"
    }
   ],
   "source": [
    "rozpeti = max(s) - min(s)\n",
    "rozpeti"
   ]
  },
  {
   "attachments": {},
   "cell_type": "markdown",
   "metadata": {},
   "source": [
    "## BONUSY"
   ]
  },
  {
   "attachments": {},
   "cell_type": "markdown",
   "metadata": {},
   "source": [
    "## 4 Střed seznamu\n",
    "\n",
    "Sestavte výraz, který vrátí číslo nacházející se přesně uprostřed v zadaném seznamu `s`. \n",
    "\n",
    "U seznamů liché délky je střed jasně definovaný, ovšem u seznamů sudé délky nám padne mezi dvě čísla. \n",
    "\n",
    "V takovém případě vyberte jako střed číslo blíže ke konci seznamu."
   ]
  },
  {
   "cell_type": "code",
   "execution_count": 13,
   "metadata": {},
   "outputs": [
    {
     "data": {
      "text/plain": [
       "4"
      ]
     },
     "execution_count": 13,
     "metadata": {},
     "output_type": "execute_result"
    }
   ],
   "source": [
    "if len(s) % 2 != 0:\n",
    "    # pokud je délka seznamu lichá, vrátíme prvek uprostřed seznamu\n",
    "    stred = s[len(s)//2]\n",
    "else:\n",
    "    # pokud je délka seznamu sudá, vrátíme prvek blíže ke konci seznamu\n",
    "    stred = s[(len(s)//2)-1]\n",
    "\n",
    "# stred = s[len(s)//2] if len(s)%2 != 0 else s[(len(s)//2)-1]\n",
    "stred"
   ]
  },
  {
   "attachments": {},
   "cell_type": "markdown",
   "metadata": {},
   "source": [
    "## 5 Střed seznamu podruhé\n",
    "\n",
    "Sestavte vzoreček, který vrátí číslo nacházející se přesně uprostřed v zadaném seznamu s. \n",
    "\n",
    "Tentokrát však u seznamů sudé délky vyberte jako střed číslo blíž k začátku seznamu."
   ]
  },
  {
   "cell_type": "code",
   "execution_count": null,
   "metadata": {},
   "outputs": [],
   "source": [
    "s = [1, 2, 3, 4, 5, 6]  # příklad seznamu\n",
    "if len(s) % 2 != 0:\n",
    "    # pokud je délka seznamu lichá, vrátíme prvek uprostřed seznamu\n",
    "    stred = s[len(s)//2]\n",
    "else:\n",
    "    # pokud je délka seznamu sudá, vrátíme prvek blíže ke začátku seznamu\n",
    "    stred = s[len(s)//2-1]\n",
    "\n",
    "# stred = s[len(s)//2-1] if len(s)%2 == 0 else s[len(s)//2]\n"
   ]
  }
 ],
 "metadata": {
  "kernelspec": {
   "display_name": "Python 3",
   "language": "python",
   "name": "python3"
  },
  "language_info": {
   "codemirror_mode": {
    "name": "ipython",
    "version": 3
   },
   "file_extension": ".py",
   "mimetype": "text/x-python",
   "name": "python",
   "nbconvert_exporter": "python",
   "pygments_lexer": "ipython3",
   "version": "3.10.1"
  },
  "orig_nbformat": 4
 },
 "nbformat": 4,
 "nbformat_minor": 2
}
