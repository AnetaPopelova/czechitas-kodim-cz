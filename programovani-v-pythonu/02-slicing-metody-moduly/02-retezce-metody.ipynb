{
 "cells": [
  {
   "cell_type": "markdown",
   "metadata": {},
   "source": [
    "# Cvičení: Řetězce, metody"
   ]
  },
  {
   "cell_type": "markdown",
   "metadata": {},
   "source": [
    "## 1 Převod písmen\n",
    "\n",
    "Uložte si do proměnné jmeno svoje jméno. \n",
    "\n",
    "Pomocí volání vhodných metod jej převeďte nejdříve na malá písmena a poté na velká písmena."
   ]
  },
  {
   "cell_type": "code",
   "execution_count": 33,
   "metadata": {},
   "outputs": [
    {
     "name": "stdout",
     "output_type": "stream",
     "text": [
      "aneta\n",
      "ANETA\n"
     ]
    }
   ],
   "source": [
    "jmeno = 'Aneta'\n",
    "\n",
    "print(jmeno.lower())\n",
    "print(jmeno.upper())"
   ]
  },
  {
   "attachments": {},
   "cell_type": "markdown",
   "metadata": {},
   "source": [
    "## 2 Čísla jako text\n",
    "\n",
    "Mějme seznam desetinných čísel zadaných jako text\n",
    "\n",
    "`hodnoty = ['12', '1', '7', '-11']`\n",
    "\n",
    "Potřebujeme k třetímu číslu v seznamu přičíst 4, aby výsledek vypadal takto:\n",
    "\n",
    "`hodnoty = ['12', '1', '11', '-11']`\n",
    "\n",
    "Před tím, než se podíváte na následující kroky, sami si rozmyslete postup, jak toto provést. \n",
    "\n",
    "Až když si nejste jistí, pokračujte podle následujících kroků.\n",
    "\n",
    "Uložte si hodnotu na třetí pozici v seznamu do nějaké proměnné.\n",
    "\n",
    "Převeďte tuto hodnotu na číslo a přičtěte k němu 4. Výsledek uložte do proměnné vysledek.\n",
    "\n",
    "Převeďte hodnotu v proměnné vysledek zpět na řetězec a uložte ji na třetí pozici v seznamu hodnoty."
   ]
  },
  {
   "cell_type": "code",
   "execution_count": 36,
   "metadata": {},
   "outputs": [
    {
     "name": "stdout",
     "output_type": "stream",
     "text": [
      "['12', '1', '11', '-11']\n"
     ]
    }
   ],
   "source": [
    "hodnoty = ['12', '1', '7', '-11']  # zadaný seznam\n",
    "\n",
    "cislo = hodnoty[2]  # uložíme hodnotu třetího prvku do proměnné\n",
    "cislo = int(cislo)  # převedeme řetězec na číslo\n",
    "cislo += 4  # přičteme číslo 4\n",
    "cislo = str(cislo)  # převedeme číslo zpět na řetězec\n",
    "hodnoty[2] = cislo  # uložíme novou hodnotu zpět do seznamu\n",
    "print(hodnoty)  # vypíšeme nový seznam"
   ]
  },
  {
   "cell_type": "code",
   "execution_count": 38,
   "metadata": {},
   "outputs": [
    {
     "data": {
      "text/plain": [
       "['12', '1', '11', '-11']"
      ]
     },
     "execution_count": 38,
     "metadata": {},
     "output_type": "execute_result"
    }
   ],
   "source": [
    "hodnoty = ['12', '1', '7', '-11']  # zadaný seznam\n",
    "\n",
    "hodnoty[2] = str(int(hodnoty[2]) + 4)\n",
    "hodnoty"
   ]
  },
  {
   "attachments": {},
   "cell_type": "markdown",
   "metadata": {},
   "source": [
    "## 3 Čísla v textu\n",
    "\n",
    "Máme obdobné zadání jako v předchozím cvičení, avšak tentokrát máme čísla zadána nikoliv v seznamu, ale v řetězci oddělená mezerou:\n",
    "\n",
    "`hodnoty = '12.1 1.68 7.45 -11.51'`\n",
    "\n",
    "K poslednímu číslu v seznamu chceme přičíst 0.25 tak, aby výsledek vypadal takto:\n",
    "\n",
    "`hodnoty = '12.1 1.68 7.45 -11.26'`\n",
    "\n",
    "Určitě se vám budou hodit metody split a join."
   ]
  },
  {
   "cell_type": "code",
   "execution_count": 18,
   "metadata": {},
   "outputs": [
    {
     "name": "stdout",
     "output_type": "stream",
     "text": [
      "12.1 1.68 7.45 -11.26\n"
     ]
    }
   ],
   "source": [
    "hodnoty = '12.1 1.68 7.45 -11.51'\n",
    "seznam_hodnot = hodnoty.split()\n",
    "posledni_hodnota = float(seznam_hodnot[-1]) + 0.25\n",
    "seznam_hodnot[-1] = str(posledni_hodnota)\n",
    "nova_hodnoty = \" \".join(seznam_hodnot)\n",
    "\n",
    "print(nova_hodnoty)"
   ]
  },
  {
   "attachments": {},
   "cell_type": "markdown",
   "metadata": {},
   "source": [
    "## Bonusy"
   ]
  },
  {
   "attachments": {},
   "cell_type": "markdown",
   "metadata": {},
   "source": [
    "## 4 Chytřejší čísla jako text\n",
    "\n",
    "Zkuste vymyslet, jak udělat zápis příkazů ze cvičení **Čísla jako text** co nejúspornější. \n",
    "\n",
    "Dá se dojít až k tomu, že celé řešení bude na jeden řádek."
   ]
  },
  {
   "cell_type": "code",
   "execution_count": 31,
   "metadata": {},
   "outputs": [
    {
     "data": {
      "text/plain": [
       "'12.1 1.68 7.45 -11.26'"
      ]
     },
     "execution_count": 31,
     "metadata": {},
     "output_type": "execute_result"
    }
   ],
   "source": [
    "' '.join(hodnoty.split()[:-1]+[str(float(hodnoty.split()[-1]) + 0.25)])"
   ]
  }
 ],
 "metadata": {
  "kernelspec": {
   "display_name": "Python 3",
   "language": "python",
   "name": "python3"
  },
  "language_info": {
   "codemirror_mode": {
    "name": "ipython",
    "version": 3
   },
   "file_extension": ".py",
   "mimetype": "text/x-python",
   "name": "python",
   "nbconvert_exporter": "python",
   "pygments_lexer": "ipython3",
   "version": "3.10.1"
  },
  "orig_nbformat": 4
 },
 "nbformat": 4,
 "nbformat_minor": 2
}
