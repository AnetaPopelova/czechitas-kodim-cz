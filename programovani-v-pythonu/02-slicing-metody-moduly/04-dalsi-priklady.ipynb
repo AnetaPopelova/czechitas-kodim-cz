{
 "cells": [
  {
   "cell_type": "markdown",
   "metadata": {},
   "source": [
    "# Další příklady na procvičení"
   ]
  },
  {
   "attachments": {},
   "cell_type": "markdown",
   "metadata": {},
   "source": [
    "## 1 Průměrné teploty\n",
    "\n",
    "Následující tabulka obsahuje průměrné roční teploty v České republice za roky 2001 až 2010 (zdroj: Český hydrometeorologický ústav).\n",
    "\n",
    "```\n",
    "rok\tteplota °C\n",
    "2001\t7.8\n",
    "2002\t8.7\n",
    "2003\t8.2\n",
    "2004\t7.8\n",
    "2005\t7.7\n",
    "2006\t8.2\n",
    "2007\t9.1\n",
    "2008\t8.9\n",
    "2009\t8.4\n",
    "2010\t7.2\n",
    "\n",
    "```\n",
    "Vytvořte reprezentaci této tabulky pomocí seznamu seznamů. Zde existují dvě možnosti.\n",
    "\n",
    "Nejprve vytvořte seznam, který obsahuje řádky tabulky jako dvouprvkové seznamy a uložte jej do proměnné radky. Poté vytvořte seznam, který obsahuje sloupce tabulky, tedy dva seznamy po deseti prvcích. Uložte jej do proměnné sloupce.\n",
    "\n",
    "Pro obě tyto reprezentace vyřešte následující úkoly\n",
    "\n",
    "1. Získejte teplotu na třetím řádku tabulky.\n",
    "2. Získejte rok na pátém řádku tabulky.\n",
    "3. Získejte poslední řádek tabulky jako seznam.\n",
    "4. Vytvořte tabulku bez prvních dvou řádků.\n",
    "5. Vytvořte tabulku pouze z prvních dvou řádků.\n",
    "6. Vytvořte tabulku obsahující jen řádky 5, 6, 7, 8 (myšleno při \"lidském\" číslování, tj. od 1).\n",
    "7. Použitím proměnné sloupce vypište seznam teplot seřazený vzestupně podle velikosti. Šlo by to i pomocí proměnné radky, ale to ještě neumíme."
   ]
  },
  {
   "cell_type": "code",
   "execution_count": 3,
   "metadata": {},
   "outputs": [],
   "source": [
    "radky = [\n",
    "    [2001, 7.8],\n",
    "    [2002, 8.7],\n",
    "    [2003, 8.2],\n",
    "    [2004, 7.8],\n",
    "    [2005, 7.7],\n",
    "    [2006, 8.2],\n",
    "    [2007, 9.1],\n",
    "    [2008, 8.9],\n",
    "    [2009, 8.4],\n",
    "    [2010, 7.2]\n",
    "]\n",
    "\n",
    "rok = [2001, 2002, 2003, 2004, 2005, 2006, 2007, 2008, 2009, 2010]\n",
    "teplota = [7.8, 8.7, 8.2, 7.8, 7.7, 8.2, 9.1, 8.9, 8.4, 7.2]\n",
    "sloupce = [rok, teplota]\n"
   ]
  },
  {
   "cell_type": "code",
   "execution_count": 4,
   "metadata": {},
   "outputs": [
    {
     "data": {
      "text/plain": [
       "8.2"
      ]
     },
     "execution_count": 4,
     "metadata": {},
     "output_type": "execute_result"
    }
   ],
   "source": [
    "# Získejte teplotu na třetím řádku tabulky.\n",
    "radky[2][1]"
   ]
  },
  {
   "cell_type": "code",
   "execution_count": 5,
   "metadata": {},
   "outputs": [
    {
     "data": {
      "text/plain": [
       "2005"
      ]
     },
     "execution_count": 5,
     "metadata": {},
     "output_type": "execute_result"
    }
   ],
   "source": [
    "# Získejte rok na pátém řádku tabulky.\n",
    "radky[4][0]"
   ]
  },
  {
   "cell_type": "code",
   "execution_count": 6,
   "metadata": {},
   "outputs": [
    {
     "data": {
      "text/plain": [
       "[2010, 7.2]"
      ]
     },
     "execution_count": 6,
     "metadata": {},
     "output_type": "execute_result"
    }
   ],
   "source": [
    "# Získejte poslední řádek tabulky jako seznam.\n",
    "radky[-1] #(poslední řádek)"
   ]
  },
  {
   "cell_type": "code",
   "execution_count": 11,
   "metadata": {},
   "outputs": [
    {
     "data": {
      "text/plain": [
       "[[2003, 8.2],\n",
       " [2004, 7.8],\n",
       " [2005, 7.7],\n",
       " [2006, 8.2],\n",
       " [2007, 9.1],\n",
       " [2008, 8.9],\n",
       " [2009, 8.4],\n",
       " [2010, 7.2]]"
      ]
     },
     "execution_count": 11,
     "metadata": {},
     "output_type": "execute_result"
    }
   ],
   "source": [
    "# Vytvořte tabulku bez prvních dvou řádků.\n",
    "radky[2:]"
   ]
  },
  {
   "cell_type": "code",
   "execution_count": 8,
   "metadata": {},
   "outputs": [
    {
     "data": {
      "text/plain": [
       "[[2001, 7.8], [2002, 8.7]]"
      ]
     },
     "execution_count": 8,
     "metadata": {},
     "output_type": "execute_result"
    }
   ],
   "source": [
    "# Vytvořte tabulku pouze z prvních dvou řádků.\n",
    "radky[:2]"
   ]
  },
  {
   "cell_type": "code",
   "execution_count": 9,
   "metadata": {},
   "outputs": [
    {
     "data": {
      "text/plain": [
       "[[2005, 7.7], [2006, 8.2], [2007, 9.1], [2008, 8.9]]"
      ]
     },
     "execution_count": 9,
     "metadata": {},
     "output_type": "execute_result"
    }
   ],
   "source": [
    "# Vytvořte tabulku obsahující jen řádky 5, 6, 7, 8 (myšleno při \"lidském\" číslování, tj. od 1).\n",
    "radky[4:8]"
   ]
  },
  {
   "cell_type": "code",
   "execution_count": 10,
   "metadata": {},
   "outputs": [
    {
     "data": {
      "text/plain": [
       "[7.2, 7.7, 7.8, 7.8, 8.2, 8.2, 8.4, 8.7, 8.9, 9.1]"
      ]
     },
     "execution_count": 10,
     "metadata": {},
     "output_type": "execute_result"
    }
   ],
   "source": [
    "# Použitím proměnné sloupce vypište seznam teplot seřazený vzestupně podle velikosti. \n",
    "\n",
    "sorted(sloupce[1]) #(seřazený seznam teplot vzestupně)"
   ]
  },
  {
   "cell_type": "code",
   "execution_count": null,
   "metadata": {},
   "outputs": [],
   "source": [
    "# # Šlo by to i pomocí proměnné radky, ale to ještě neumíme.\n",
    "\n",
    "\n",
    "# # Seznam teplot (bez prvního řádku)\n",
    "# teploty = [radek[1] for radek in radky[1:]]\n",
    "# # Seřazení vzestupně podle velikosti\n",
    "# serazene_teploty = sorted(teploty, key=lambda x: x)\n",
    "\n",
    "# # Výpis seřazených teplot\n",
    "# for teplota in serazene_teploty:\n",
    "#     print(teplota)"
   ]
  },
  {
   "attachments": {},
   "cell_type": "markdown",
   "metadata": {},
   "source": [
    "## 2 Známky z písemek\n",
    "\n",
    "Máme data o písemce, která obsahovala 4 otázky. \n",
    "\n",
    "Za každou otázku mohl student (studentka) získat max. 10 bodů. \n",
    "\n",
    "Výsledky studentů jsou v následující tabulce.\n",
    "\n",
    "```\n",
    "Student\tOtázka 1\tOtázka 2\tOtázka 3\tOtázka 4\n",
    "A\t    9\t        7\t        8\t        5\n",
    "B\t    5\t        3\t        6\t        6\n",
    "C\t    8\t        4\t        9\t        7\n",
    "D\t    8\t        5\t        4\t        8\n",
    "E\t    10\t        6\t        10\t        7\n",
    "\n",
    "```\n",
    "\n",
    "Ulož si známky studentů do dvourozměrného seznamu.\n",
    "\n",
    "Spočítej známku jednotlivých studentů. Známku urči podle celkového počtu bodů ze všech příkladů. \n",
    "\n",
    "Bodovací tabulku najdeš níže.\n",
    "\n",
    "```\n",
    "Body\t        Známka\n",
    "36 a více\t    1\n",
    "32 a více\t    2\n",
    "26 a více\t    3\n",
    "20 a více\t    4\n",
    "méně než 20\t    5\n",
    "\n",
    "```\n",
    "\n",
    "Vypočítej průměrné body z jednotlivých otázek. Ze které otázky dostali studenti v průměru nejvíce bodů? \n",
    "\n",
    "A ze které naopak nejméně?"
   ]
  },
  {
   "cell_type": "code",
   "execution_count": 12,
   "metadata": {},
   "outputs": [
    {
     "name": "stdout",
     "output_type": "stream",
     "text": [
      "Průměrné body z otázek: [8.0, 5.0, 7.4, 6.6]\n",
      "Známky studentů: [3, 4, 3, 4, 2]\n",
      "Nejvíce bodů v průměru ze otázky 1: 8.0\n",
      "Nejméně bodů v průměru ze otázky 2: 5.0\n"
     ]
    }
   ],
   "source": [
    "# dvourozměrný seznam s hodnocením studentů\n",
    "hodnoceni = [\n",
    "    [\"A\", 9, 7, 8, 5],\n",
    "    [\"B\", 5, 3, 6, 6],\n",
    "    [\"C\", 8, 4, 9, 7],\n",
    "    [\"D\", 8, 5, 4, 8],\n",
    "    [\"E\", 10, 6, 10, 7]\n",
    "]\n",
    "\n",
    "# průměrné body z jednotlivých otázek\n",
    "prumer_otazka = []\n",
    "for i in range(4):\n",
    "    prumer = sum([hodnoceni[j][i+1] for j in range(5)]) / 5\n",
    "    prumer_otazka.append(prumer)\n",
    "\n",
    "print(f\"Průměrné body z otázek: {prumer_otazka}\")\n",
    "\n",
    "# hodnocení studentů na základě bodů\n",
    "známky = []\n",
    "for i in range(5):\n",
    "    body = sum(hodnoceni[i][1:])\n",
    "    if body >= 36:\n",
    "        známky.append(1)\n",
    "    elif body >= 32:\n",
    "        známky.append(2)\n",
    "    elif body >= 26:\n",
    "        známky.append(3)\n",
    "    elif body >= 20:\n",
    "        známky.append(4)\n",
    "    else:\n",
    "        známky.append(5)\n",
    "\n",
    "print(f\"Známky studentů: {známky}\")\n",
    "\n",
    "# nejvíce/nejméně bodů z otázek\n",
    "nejvice_bodu = max(prumer_otazka)\n",
    "nejmin_bodu = min(prumer_otazka)\n",
    "\n",
    "print(f\"Nejvíce bodů v průměru ze otázky {prumer_otazka.index(nejvice_bodu) + 1}: {nejvice_bodu}\")\n",
    "print(f\"Nejméně bodů v průměru ze otázky {prumer_otazka.index(nejmin_bodu) + 1}: {nejmin_bodu}\")\n"
   ]
  },
  {
   "cell_type": "code",
   "execution_count": null,
   "metadata": {},
   "outputs": [],
   "source": []
  }
 ],
 "metadata": {
  "kernelspec": {
   "display_name": "Python 3",
   "language": "python",
   "name": "python3"
  },
  "language_info": {
   "codemirror_mode": {
    "name": "ipython",
    "version": 3
   },
   "file_extension": ".py",
   "mimetype": "text/x-python",
   "name": "python",
   "nbconvert_exporter": "python",
   "pygments_lexer": "ipython3",
   "version": "3.10.1"
  },
  "orig_nbformat": 4
 },
 "nbformat": 4,
 "nbformat_minor": 2
}
