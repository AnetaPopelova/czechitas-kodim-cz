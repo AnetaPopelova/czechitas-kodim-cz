{
 "cells": [
  {
   "cell_type": "markdown",
   "metadata": {},
   "source": [
    "# Zaměstnanci a Projekty\n",
    "\n",
    "## Zaměstnanci\n",
    "\n",
    "Uvažuj, že zpracováváš analýzu pro softwarovou firmu. \n",
    "\n",
    "Firma má kanceláře v Praze, Plzni a Liberci. \n",
    "\n",
    "Seznam zaměstnanců pro jednotlivé kanceláře najdeš v souborech zam_praha.csv, zam_plzeň.csv a zam_liberec.csv."
   ]
  },
  {
   "cell_type": "code",
   "execution_count": 1,
   "metadata": {},
   "outputs": [
    {
     "data": {
      "text/plain": [
       "492"
      ]
     },
     "execution_count": 1,
     "metadata": {},
     "output_type": "execute_result"
    }
   ],
   "source": [
    "import requests\n",
    "\n",
    "r = requests.get(\"https://raw.githubusercontent.com/andywaltlova/python-1-podzim-2022/master/ukoly/data/zam_praha.csv\")\n",
    "open(\"zam_praha.csv\", \"wb\").write(r.content)\n",
    "\n",
    "r = requests.get(\"https://raw.githubusercontent.com/andywaltlova/python-1-podzim-2022/master/ukoly/data/zam_plzeň.csv\")\n",
    "open(\"zam_plzeň.csv\", \"wb\").write(r.content)\n",
    "\n",
    "r = requests.get(\"https://raw.githubusercontent.com/andywaltlova/python-1-podzim-2022/master/ukoly/data/zam_liberec.csv\")\n",
    "open(\"zam_liberec.csv\", \"wb\").write(r.content)\n",
    "\n",
    "r = requests.get(\"https://raw.githubusercontent.com/andywaltlova/python-1-podzim-2022/master/ukoly/data/platy_2021_02.csv\")\n",
    "open(\"platy_2021_02.csv\", \"wb\").write(r.content)"
   ]
  },
  {
   "cell_type": "markdown",
   "metadata": {},
   "source": [
    "\n",
    "Načti data o zaměstnancích z CSV souborů do tabulek (DataFrame). \n"
   ]
  },
  {
   "cell_type": "code",
   "execution_count": 3,
   "metadata": {},
   "outputs": [],
   "source": [
    "import pandas\n",
    "\n",
    "zam_praha = pandas.read_csv(\"zam_praha.csv\")\n",
    "zam_plzen = pandas.read_csv(\"zam_plzeň.csv\")\n",
    "zam_liberec = pandas.read_csv(\"zam_liberec.csv\")"
   ]
  },
  {
   "cell_type": "markdown",
   "metadata": {},
   "source": [
    "Ke každé tabulce přidej nový sloupec mesto, které bude obsahovat informaci o tom, ve kterém městě zaměstnanec pracuje.\n"
   ]
  },
  {
   "cell_type": "code",
   "execution_count": 4,
   "metadata": {},
   "outputs": [],
   "source": [
    "zam_praha[\"mesto\"] = \"Praha\"\n",
    "zam_plzen[\"mesto\"] = \"Plzen\"\n",
    "zam_liberec[\"mesto\"] = \"Liberec\""
   ]
  },
  {
   "cell_type": "markdown",
   "metadata": {},
   "source": [
    "Vytvoř novou tabulku zamestnanci a ulož do ní informace o všech zaměstnancích.\n"
   ]
  },
  {
   "cell_type": "code",
   "execution_count": 40,
   "metadata": {},
   "outputs": [],
   "source": [
    "zamestnanci = pandas.concat([zam_praha, zam_plzen, zam_liberec], ignore_index=True)"
   ]
  },
  {
   "cell_type": "markdown",
   "metadata": {},
   "source": [
    "Ze souboru platy_2021_02.csv načti platy zaměstnanců za únor 2021. "
   ]
  },
  {
   "cell_type": "code",
   "execution_count": 7,
   "metadata": {},
   "outputs": [],
   "source": [
    "platy_2021_02 = pandas.read_csv(\"platy_2021_02.csv\")"
   ]
  },
  {
   "cell_type": "markdown",
   "metadata": {},
   "source": [
    "Propoj tabulku (operace join) s platy a tabulku se zaměstnanci pomocí sloupce cislo_zamestnance.\n"
   ]
  },
  {
   "cell_type": "code",
   "execution_count": 8,
   "metadata": {},
   "outputs": [],
   "source": [
    "zamestnanci_s_platy = pandas.merge(zamestnanci, platy_2021_02, on=\"cislo_zamestnance\")"
   ]
  },
  {
   "cell_type": "markdown",
   "metadata": {},
   "source": [
    "Porovnej rozměry tabulek před spojením a po spojení. \n",
    "\n",
    "Pokud nemá některý zaměstnanec plat za únor, znamená to, že v naší firmě již nepracuje.\n"
   ]
  },
  {
   "cell_type": "code",
   "execution_count": 12,
   "metadata": {},
   "outputs": [
    {
     "name": "stdout",
     "output_type": "stream",
     "text": [
      "Tabulka pred spojenim ma 56 radek a 5 sloupcu.\n",
      "Tabulka po spojeni ma 43 radek a 6 sloupcu.\n"
     ]
    }
   ],
   "source": [
    "print(f\"Tabulka pred spojenim ma {zamestnanci.shape[0]} radek a {zamestnanci.shape[1]} sloupcu.\") \n",
    "print(f\"Tabulka po spojeni ma {zamestnanci_s_platy.shape[0]} radek a {zamestnanci_s_platy.shape[1]} sloupcu.\") "
   ]
  },
  {
   "cell_type": "markdown",
   "metadata": {},
   "source": [
    "Spočti průměrný plat zaměstnanců v jednotlivých kancelářích.\n"
   ]
  },
  {
   "cell_type": "code",
   "execution_count": 18,
   "metadata": {},
   "outputs": [
    {
     "data": {
      "text/plain": [
       "mesto\n",
       "Liberec    43775.000000\n",
       "Plzen      44792.857143\n",
       "Praha      43295.238095\n",
       "Name: plat, dtype: float64"
      ]
     },
     "execution_count": 18,
     "metadata": {},
     "output_type": "execute_result"
    }
   ],
   "source": [
    "zamestnanci_s_platy.groupby(\"mesto\")[\"plat\"].mean()"
   ]
  },
  {
   "cell_type": "markdown",
   "metadata": {},
   "source": [
    "### Dobrovolný doplněk\n",
    "\n",
    "V rámci úspory se IT oddělení rozhodlo prověřit licence přidělené zaměstnancům, kteří ve firmě již nepracují. \n",
    "\n",
    "Vytvoř samostatnou tabulku, která obsahuje jména zaměstnanců, kteří ve firmě již nepracují. \n",
    "\n",
    "Tabulku ulož do souboru CSV.\n"
   ]
  },
  {
   "cell_type": "code",
   "execution_count": 27,
   "metadata": {},
   "outputs": [],
   "source": [
    "byvali_zamestnanci = pandas.merge(zamestnanci, platy_2021_02, on=\"cislo_zamestnance\", how=\"left\")\n",
    "byvali_zamestnanci = byvali_zamestnanci[byvali_zamestnanci[\"plat\"].isna()]\n",
    "byvali_zamestnanci = byvali_zamestnanci[[\"jmeno\", \"prijimeni\"]]\n",
    "byvali_zamestnanci.to_csv(\"byvali_zamestnanci.csv\", index=False)"
   ]
  },
  {
   "cell_type": "markdown",
   "metadata": {},
   "source": [
    "## Projekty\n",
    "\n",
    "Pokračuj ve své práci pro softwarovou firmu. \n",
    "\n",
    "Ze souboru vykazy.csv načti informace o výkazech na projekty pro jednoho vybraného zákazníka.\n"
   ]
  },
  {
   "cell_type": "code",
   "execution_count": 2,
   "metadata": {},
   "outputs": [
    {
     "data": {
      "text/plain": [
       "623"
      ]
     },
     "execution_count": 2,
     "metadata": {},
     "output_type": "execute_result"
    }
   ],
   "source": [
    "import requests\n",
    "\n",
    "r = requests.get(\"https://raw.githubusercontent.com/andywaltlova/python-1-podzim-2022/master/ukoly/data/vykazy.csv\")\n",
    "open(\"vykazy.csv\", \"wb\").write(r.content)"
   ]
  },
  {
   "cell_type": "markdown",
   "metadata": {},
   "source": [
    "Načti data ze souboru a ulož je do tabulky.\n"
   ]
  },
  {
   "cell_type": "code",
   "execution_count": 28,
   "metadata": {},
   "outputs": [],
   "source": [
    "vykazy = pandas.read_csv(\"vykazy.csv\")"
   ]
  },
  {
   "cell_type": "markdown",
   "metadata": {},
   "source": [
    "Proveď agregaci a zjisti celkový počet vykázaných hodin za jednotlivé projekty.\n"
   ]
  },
  {
   "cell_type": "code",
   "execution_count": 31,
   "metadata": {},
   "outputs": [
    {
     "data": {
      "text/plain": [
       "project\n",
       "F30    21.5\n",
       "JL9     2.1\n",
       "TE1    16.0\n",
       "W05    30.5\n",
       "YLI    31.0\n",
       "Name: hours, dtype: float64"
      ]
     },
     "execution_count": 31,
     "metadata": {},
     "output_type": "execute_result"
    }
   ],
   "source": [
    "odpracovane_hodiny = vykazy.groupby(\"project\")[\"hours\"].sum()"
   ]
  },
  {
   "cell_type": "markdown",
   "metadata": {},
   "source": [
    "### Dobrovolný doplněk\n",
    "\n",
    "Propoj tabulku s výkazy s tabulkou se zaměstnanci, kterou jsi vytvořil(a) v předchozím cvičení.\n"
   ]
  },
  {
   "cell_type": "code",
   "execution_count": 38,
   "metadata": {},
   "outputs": [],
   "source": [
    "zamestnanci_s_vykazy = pandas.merge(zamestnanci, vykazy, left_on=\"cislo_zamestnance\", right_on=\"emloyee_id\", how=\"left\")"
   ]
  },
  {
   "cell_type": "markdown",
   "metadata": {},
   "source": [
    "\n",
    "Následně proveď statistiku vykázaných hodin za jednotlivé kanceláře, tj. spočítej celkový počet hodin vykázaný zaměstnanci jednotlivých kanceláří na projekty daného zákazníka."
   ]
  },
  {
   "cell_type": "code",
   "execution_count": 39,
   "metadata": {},
   "outputs": [
    {
     "data": {
      "text/plain": [
       "mesto    project\n",
       "Liberec  TE1        10.8\n",
       "         W05         5.4\n",
       "         YLI        11.8\n",
       "Plzen    F30        10.3\n",
       "         YLI         5.3\n",
       "Praha    F30        11.2\n",
       "         JL9         2.1\n",
       "         TE1         5.2\n",
       "         W05        25.1\n",
       "         YLI        13.9\n",
       "Name: hours, dtype: float64"
      ]
     },
     "execution_count": 39,
     "metadata": {},
     "output_type": "execute_result"
    }
   ],
   "source": [
    "zamestnanci_s_vykazy.groupby([\"mesto\", \"project\"])[\"hours\"].sum()"
   ]
  },
  {
   "cell_type": "code",
   "execution_count": null,
   "metadata": {},
   "outputs": [],
   "source": []
  }
 ],
 "metadata": {
  "kernelspec": {
   "display_name": "Python 3.10.1 64-bit",
   "language": "python",
   "name": "python3"
  },
  "language_info": {
   "codemirror_mode": {
    "name": "ipython",
    "version": 3
   },
   "file_extension": ".py",
   "mimetype": "text/x-python",
   "name": "python",
   "nbconvert_exporter": "python",
   "pygments_lexer": "ipython3",
   "version": "3.10.1"
  },
  "orig_nbformat": 4,
  "vscode": {
   "interpreter": {
    "hash": "aee8b7b246df8f9039afb4144a1f6fd8d2ca17a180786b69acc140d282b71a49"
   }
  }
 },
 "nbformat": 4,
 "nbformat_minor": 2
}
