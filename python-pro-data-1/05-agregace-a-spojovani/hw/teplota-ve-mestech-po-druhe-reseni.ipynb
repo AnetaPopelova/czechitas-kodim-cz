{
 "cells": [
  {
   "cell_type": "markdown",
   "metadata": {},
   "source": [
    "# Teplota ve městech podruhé\n",
    "\n",
    "Pokračuj ve své práci s informacemi o průměrných teplotách. \n",
    "\n",
    "Pokud jsi zpracovala pokročilou variantu, můžeš pracovat s teplotami ve stupních Celsia.\n",
    "\n",
    "Vypiš si prvních několik řádků, ať si prohlédneš strukturu tabulky. \n"
   ]
  },
  {
   "cell_type": "code",
   "execution_count": null,
   "metadata": {},
   "outputs": [],
   "source": []
  },
  {
   "cell_type": "markdown",
   "metadata": {},
   "source": [
    "\n",
    "Dále napiš následující dotazy:\n",
    "\n",
    "Dotaz na řádky z 13. listopadu 2017 (sloupec `Day` musí mít hodnotu 13).\n"
   ]
  },
  {
   "cell_type": "code",
   "execution_count": null,
   "metadata": {},
   "outputs": [],
   "source": []
  },
  {
   "cell_type": "markdown",
   "metadata": {},
   "source": [
    "Dotaz na řádky z 13. listopadu 2017 ze Spojených států amerických (sloupec `Day` musí mít hodnotu 13 a sloupec `Country` hodnotu US). \n",
    "\n",
    "Výsledek dotazu si ulož do nové tabulky a použij ji jako vstup pro následující dotaz.\n"
   ]
  },
  {
   "cell_type": "code",
   "execution_count": null,
   "metadata": {},
   "outputs": [],
   "source": []
  },
  {
   "cell_type": "markdown",
   "metadata": {},
   "source": [
    "Pro data z předchozího dotazu napiš dotaz na řádky ve městech (sloupec `City`) Washington a Philadelphia.\n"
   ]
  },
  {
   "cell_type": "code",
   "execution_count": null,
   "metadata": {},
   "outputs": [],
   "source": []
  },
  {
   "cell_type": "markdown",
   "metadata": {},
   "source": [
    "\n",
    "Vrať se k pomocné tabulce, kterou jsi vytvořila v bodu 2. \n",
    "\n",
    "Vypiš průměrnou hodnotu ze všech měření, která byla provedena 13. listopadu 2017 na území Spojených států amerických. \n",
    "\n",
    "K tomu využij funkci `.mean()`, která funguje stejně jako funkce `.sum()`, kterou jsme si ukazovali na lekci. \n",
    "\n",
    "Pokud znáš základy statistiky, zkus funkci pro medián `.median()` a rozptyl `.var()`.\n"
   ]
  },
  {
   "cell_type": "code",
   "execution_count": null,
   "metadata": {},
   "outputs": [],
   "source": []
  }
 ],
 "metadata": {
  "kernelspec": {
   "display_name": "Python 3.10.1 64-bit",
   "language": "python",
   "name": "python3"
  },
  "language_info": {
   "name": "python",
   "version": "3.10.1"
  },
  "orig_nbformat": 4,
  "vscode": {
   "interpreter": {
    "hash": "aee8b7b246df8f9039afb4144a1f6fd8d2ca17a180786b69acc140d282b71a49"
   }
  }
 },
 "nbformat": 4,
 "nbformat_minor": 2
}
