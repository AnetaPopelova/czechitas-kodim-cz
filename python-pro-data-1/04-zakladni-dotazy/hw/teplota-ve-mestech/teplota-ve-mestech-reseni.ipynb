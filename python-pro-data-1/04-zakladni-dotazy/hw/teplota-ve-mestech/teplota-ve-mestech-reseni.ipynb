{
 "cells": [
  {
   "attachments": {},
   "cell_type": "markdown",
   "metadata": {},
   "source": [
    "# Teplota ve městech\n",
    "\n",
    "Stáhni si soubor [temperature.csv](temperature.csv), který obsahuje informace o průměrné teplotě v různých městech v **listopadu 2017**.\n",
    "\n"
   ]
  },
  {
   "cell_type": "code",
   "execution_count": null,
   "metadata": {},
   "outputs": [],
   "source": [
    "import requests\n",
    "\n",
    "url = \"https://raw.githubusercontent.com/andywaltlova/python-1-podzim-2022/master/ukoly/data/temperature.csv\"\n",
    "r = requests.get(url, allow_redirects=True, verify=False)\n",
    "\n",
    "open(\"temperature.csv\", \"wb\").write(r.content)"
   ]
  },
  {
   "cell_type": "markdown",
   "metadata": {},
   "source": [
    "\n",
    "Vypiš si prvních několik řádků, ať si prohlédneš strukturu tabulky. \n"
   ]
  },
  {
   "cell_type": "code",
   "execution_count": null,
   "metadata": {},
   "outputs": [],
   "source": [
    "import pandas\n",
    "\n",
    "teploty = pandas.read_csv(\"temperature.csv\")\n",
    "teploty.head()"
   ]
  },
  {
   "attachments": {},
   "cell_type": "markdown",
   "metadata": {},
   "source": [
    "Dále napiš následující dotazy:\n",
    "* Dotaz na měření, která byla provedena v Praze. Je na datech něco zvláštního? Napadá tě, čím to může být? [Zde](https://cs.wikipedia.org/wiki/Stupe%C5%88_Fahrenheita) je nápověda.\n"
   ]
  },
  {
   "cell_type": "code",
   "execution_count": null,
   "metadata": {},
   "outputs": [],
   "source": [
    "teploty_praha = teploty[teploty[\"City\"] == \"Prague\"]\n",
    "\n",
    "# teploty_praha = teploty[teploty[\"City\"].isin([\"Prague\"])]\n",
    "# teploty_praha = teploty.query(\"City == 'Prague'\")\n",
    "\n",
    "# Teploty jsou uvedeny ve stupních Fahrenheita."
   ]
  },
  {
   "attachments": {},
   "cell_type": "markdown",
   "metadata": {},
   "source": [
    "* Dotaz na měření, ve kterých je teplota (sloupec `AvgTemperature`) vyšší než 80 stupňů.\n"
   ]
  },
  {
   "cell_type": "code",
   "execution_count": null,
   "metadata": {},
   "outputs": [],
   "source": [
    "teploty_nad_80 = teploty[teploty[\"AvgTemperature\"] > 80]\n",
    "# teploty_nad_80 = teploty.query(\"AvgTemperature > 80\")"
   ]
  },
  {
   "attachments": {},
   "cell_type": "markdown",
   "metadata": {},
   "source": [
    "* Dotaz na měření, ve kterých je teplota vyšší než 60 stupňů a současně bylo měření provedeno v regionu (sloupec `Region`) Evropa (Europe).\n"
   ]
  },
  {
   "cell_type": "code",
   "execution_count": null,
   "metadata": {},
   "outputs": [],
   "source": [
    "teploty_v_evrope_nad_60 = teploty[(teploty[\"Region\"] == \"Europe\") & (teploty[\"AvgTemperature\"] > 60)]"
   ]
  },
  {
   "cell_type": "markdown",
   "metadata": {},
   "source": [
    "* Dotaz na extrémní hodnoty, tj. měření, ve kterých je teplota vyšší než 80 stupňů nebo menší než - 20 stupňů.\n"
   ]
  },
  {
   "cell_type": "code",
   "execution_count": null,
   "metadata": {},
   "outputs": [],
   "source": [
    "extremni_teploty = teploty[(teploty[\"AvgTemperature\"] > 80) | (teploty[\"AvgTemperature\"] < -20)]"
   ]
  },
  {
   "attachments": {},
   "cell_type": "markdown",
   "metadata": {},
   "source": [
    "## Bonus\n",
    "\n",
    "Nainstaluj si modul `pytemperature` a zkus si vytvořit nový sloupec, který bude obsahovat průměrnou templotu ve stupních Celsia.\n",
    "\n",
    "Ve svém programu nejprve proveď import modulu `pytemperature`. Nový sloupec pak přidáš do tabulky tak, že nalevo od `=` vložíš tabulku a název nového sloupce do hranatých závorek. Napravo pak můžeš provádět výpočty pomocí již existujících sloupců. Můžeš např. použít funkci `f2c` z modulu `pytemperature`, která převede teplotu ze stupňů Fahrenheita na stupně Celsia.\n",
    "\n",
    "```python\n",
    "import pytemperature\n",
    "df[\"AvgTemperatureCelsia\"] = pytemperature.f2c(df[\"AvgTemperature\"])\n",
    "```\n"
   ]
  },
  {
   "cell_type": "code",
   "execution_count": null,
   "metadata": {},
   "outputs": [],
   "source": [
    "# !pip3 install pytemperature\n",
    "import pytemperature\n",
    "\n",
    "teploty[\"AvgTemperatureCelsia\"] = pytemperature.f2c(teploty[\"AvgTemperature\"])\n",
    "teploty.head()"
   ]
  },
  {
   "attachments": {},
   "cell_type": "markdown",
   "metadata": {},
   "source": [
    "\n",
    "Nyní můžeš zpracovat následující příklady:\n",
    "\n",
    "* Dotaz na měření, ve kterých je teplota (sloupec `AvgTemperatureCelsia`) vyšší než 30 stupňů Celsia.\n",
    "* Dotaz na měření, ve kterých je teplota vyšší než 15 stupňů Celsia a současně bylo měření provedeno v regionu (sloupec `Region`) Evropa (Europe).\n",
    "* Dotaz na extrémní hodnoty, tj. měření, ve kterých je teplota vyšší než 30 stupňů Celsia nebo menší než -10 stupňů. Jsou některé hodnoty podezřelé?\n"
   ]
  },
  {
   "cell_type": "code",
   "execution_count": null,
   "metadata": {},
   "outputs": [],
   "source": [
    "teploty_nad_30 = teploty[teploty[\"AvgTemperature\"] > 30]\n",
    "teploty_v_evrope_nad_15 = teploty[(teploty[\"Region\"] == \"Europe\") & (teploty[\"AvgTemperatureCelsia\"] > 15)]\n",
    "extremni_teploty = teploty[(teploty[\"AvgTemperatureCelsia\"] > 30) | (teploty[\"AvgTemperatureCelsia\"] < -10)]\n",
    "# V některých Afrických zemích jsou evidovány podezřele nízké teploty (-99°F resp. -72.78°C)."
   ]
  },
  {
   "cell_type": "markdown",
   "metadata": {},
   "source": [
    "\n",
    "## Bonus 2\n",
    "\n",
    "Pokračuj ve své práci s informacemi o průměrných teplotách. Pokud jsi zpracoval/a první bonus, můžeš pracovat s teplotami ve stupních Celsia.\n",
    "\n",
    "Napiš následující dotazy:\n",
    "\n",
    "* Dotaz na řádky z 13. listopadu 2017 (sloupec `Day` musí mít hodnotu 13).\n",
    "* Dotaz na řádky z 13. listopadu 2017 ze Spojených států amerických (sloupec `Day` musí mít hodnotu 13 a sloupec `Country` hodnotu US). Výsledek dotazu si ulož do nové tabulky a použij ji jako vstup pro následující dotaz.\n",
    "* Pro data z předchozího dotazu napiš dotaz na řádky ve městech (sloupec `City`) Washington a Philadelphia."
   ]
  },
  {
   "cell_type": "code",
   "execution_count": null,
   "metadata": {},
   "outputs": [],
   "source": [
    "trinacty_listopad = teploty[teploty[\"Day\"] == 13]\n",
    "trinacty_listopad_USA = teploty[(teploty[\"Day\"] == 13) & (teploty[\"Country\"] == \"US\")]\n",
    "washington_a_philadelphia = trinacty_listopad_USA[trinacty_listopad_USA[\"City\"].isin([\"Washington\", \"Philadelphia\"])]"
   ]
  }
 ],
 "metadata": {
  "kernelspec": {
   "display_name": "Python 3",
   "language": "python",
   "name": "python3"
  },
  "language_info": {
   "codemirror_mode": {
    "name": "ipython",
    "version": 3
   },
   "file_extension": ".py",
   "mimetype": "text/x-python",
   "name": "python",
   "nbconvert_exporter": "python",
   "pygments_lexer": "ipython3",
   "version": "3.10.1"
  },
  "orig_nbformat": 4,
  "vscode": {
   "interpreter": {
    "hash": "aee8b7b246df8f9039afb4144a1f6fd8d2ca17a180786b69acc140d282b71a49"
   }
  }
 },
 "nbformat": 4,
 "nbformat_minor": 2
}
