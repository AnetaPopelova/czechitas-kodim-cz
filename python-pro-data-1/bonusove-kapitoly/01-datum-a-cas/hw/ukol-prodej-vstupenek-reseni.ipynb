{
 "cells": [
  {
   "cell_type": "markdown",
   "metadata": {},
   "source": [
    "# Prodej vstupenek\n",
    "\n",
    "Vytvoř program na prodej vstupenek do letního kina. Ceny vstupenek jsou v tabulce níže.\n",
    "\n",
    "| Datum | Cena |\n",
    "| ------------- |-------------:| \n",
    "| 1. 7. 2021 - 10. 8. 2021 | 250 Kč | \n",
    "| 11. 8. 2021 - 31. 8. 2021 | 180 Kč |\n",
    "\n",
    "Mimo tato data je středisko zavřené.\n",
    "\n",
    "Tvůj program se nejprve zeptá uživatele na datum a počet osob, pro které uživatel chce vstupenky koupit. Uživatel zadá datum ve středoevropském formátu. Převeď řetězec zadaný uživatelem na datum pomocí funkce `datetime.strptime()`.\n",
    "\n",
    "Pokud by uživatel zadal příjezd mimo otevírací dobu, vypiš, že letní kino je v té době uzavřené. Pokud je letní kino otevřené, spočítej a vypiš cenu za vstupenky.\n",
    "\n",
    "Data lze porovnávat pomocí známých operátorů `<`, `>`, `<=`, `>=`, `==`, `!=`. Tyto operátory můžeš použít v podmínce `if`. Níže vidíš příklad porovnání dvou dat. Program vypíše text `\"Druhá událost se stala po první události\"`.\n",
    "\n",
    "```python\n",
    "from datetime import datetime\n",
    "prvni_udalost = datetime(2021, 7, 1)\n",
    "druha_udalost = datetime(2021, 7, 3)\n",
    "if prvni_datum < druhe_datum:\n",
    "  print(\"Druhá událost se stala po první události\")\n",
    "```"
   ]
  },
  {
   "cell_type": "code",
   "execution_count": 24,
   "metadata": {},
   "outputs": [
    {
     "name": "stdout",
     "output_type": "stream",
     "text": [
      "Zaplaťte prosím 750 Kč.\n"
     ]
    }
   ],
   "source": [
    "from datetime import datetime\n",
    "\n",
    "datum_navstevy = input(\"Zadej datum návštěvy [den. měsíc. rok]: \")\n",
    "pocet_osob = input(\"Zadej počet lístků: \")\n",
    "# datum_navstevy = \"13. 7. 2021\"\n",
    "# pocet_osob = 3\n",
    "\n",
    "datum_navstevy = datum_navstevy.replace(\" \", \"\")\n",
    "datum_navstevy = datetime.strptime(datum_navstevy, \"%d.%m.%Y\")\n",
    "\n",
    "start_sezony = datetime(2021, 7, 1)\n",
    "datum_snizeni_ceny = datetime(2021, 8, 11)\n",
    "konec_sezony = datetime(2021, 8, 31)\n",
    "\n",
    "cena_vstupenky = 250\n",
    "cena_vstupenky_snizena = 180\n",
    "\n",
    "if datum_navstevy < start_sezony:\n",
    "    print(\"Kino je v té době zavřené.\")\n",
    "elif datum_navstevy < datum_snizeni_ceny:\n",
    "    cena = pocet_osob * cena_vstupenky\n",
    "    print(f\"Zaplaťte prosím {cena} Kč.\")\n",
    "elif datum_navstevy <= konec_sezony:\n",
    "    cena = pocet_osob * cena_vstupenky_snizena\n",
    "    print(f\"Zaplaťte prosím {cena} Kč.\")\n",
    "else:\n",
    "    print(\"Kino je v té době zavřené.\")"
   ]
  }
 ],
 "metadata": {
  "kernelspec": {
   "display_name": "Python 3.10.1 64-bit",
   "language": "python",
   "name": "python3"
  },
  "language_info": {
   "codemirror_mode": {
    "name": "ipython",
    "version": 3
   },
   "file_extension": ".py",
   "mimetype": "text/x-python",
   "name": "python",
   "nbconvert_exporter": "python",
   "pygments_lexer": "ipython3",
   "version": "3.10.1"
  },
  "orig_nbformat": 4,
  "vscode": {
   "interpreter": {
    "hash": "aee8b7b246df8f9039afb4144a1f6fd8d2ca17a180786b69acc140d282b71a49"
   }
  }
 },
 "nbformat": 4,
 "nbformat_minor": 2
}
