{
    "cells": [
        {
            "cell_type": "code",
            "execution_count": 21,
            "id": "ba87446b",
            "metadata": {},
            "outputs": [
                {
                    "name": "stdout",
                    "output_type": "stream",
                    "text": [
                        "Sparkline: ▃▂▆▄▂▇▃▁▆▇▇▄\n"
                    ]
                }
            ],
            "source": [
                "import numpy\n",
                "\n",
                "def show_sparkline(name=\"Sparkline\", length=12, scale=\" ▁▂▃▄▅▆▇█\"):\n",
                "    print(f\"{name}:\", \"\".join([scale[i] for i in numpy.random.randint(0, len(scale)-1, length)]))\n",
                "\n",
                "show_sparkline()"
            ]
        }
    ],
    "metadata": {
        "kernelspec": {
            "display_name": ".venv",
            "language": "python",
            "name": "python3"
        },
        "language_info": {
            "codemirror_mode": {
                "name": "ipython",
                "version": 3
            },
            "file_extension": ".py",
            "mimetype": "text/x-python",
            "name": "python",
            "nbconvert_exporter": "python",
            "pygments_lexer": "ipython3",
            "version": "3.10.0"
        },
        "vscode": {
            "interpreter": {
                "hash": "5658786f9db5b127566007cc84b3882dbe6ae91d5d41792e5704d53d443382e3"
            }
        }
    },
    "nbformat": 4,
    "nbformat_minor": 5
}