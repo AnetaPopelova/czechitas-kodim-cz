{
 "cells": [
  {
   "cell_type": "code",
   "execution_count": 1,
   "id": "3a924a36",
   "metadata": {
    "_cell_guid": "b1076dfc-b9ad-4769-8c92-a6c4dae69d19",
    "_uuid": "8f2839f25d086af736a60e9eeb907d3b93b6e0e5",
    "execution": {
     "iopub.execute_input": "2022-07-18T21:49:33.269041Z",
     "iopub.status.busy": "2022-07-18T21:49:33.268591Z",
     "iopub.status.idle": "2022-07-18T21:49:33.285160Z",
     "shell.execute_reply": "2022-07-18T21:49:33.284114Z"
    },
    "papermill": {
     "duration": 0.026081,
     "end_time": "2022-07-18T21:49:33.287555",
     "exception": false,
     "start_time": "2022-07-18T21:49:33.261474",
     "status": "completed"
    },
    "tags": []
   },
   "outputs": [
    {
     "name": "stdout",
     "output_type": "stream",
     "text": [
      "Time since the millenium at midnight:  8234 days, 0:00:00\n",
      "Time since the millenium at noon:  8234 days, 12:00:00\n"
     ]
    }
   ],
   "source": [
    "import datetime\n",
    "# Date object\n",
    "today = datetime.date.today()\n",
    "new_year = datetime.date(2017, 1, 1) #datetime.date(2017, 1, 1)\n",
    "# Time object\n",
    "noon = datetime.time(12, 0, 0) #datetime.time(12, 0)\n",
    "# Current datetime\n",
    "now = datetime.datetime.now()\n",
    "millenium_turn = datetime.datetime(2000, 1, 1, 0, 0, 0) #datetime.datetime(2000, 1, 1, 0, 0)\n",
    "# Do this instead\n",
    "print('Time since the millenium at midnight: ',\n",
    " datetime.datetime(today.year, today.month, today.day) - millenium_turn)\n",
    "# Or this\n",
    "print('Time since the millenium at noon: ',\n",
    " datetime.datetime.combine(today, noon) - millenium_turn)"
   ]
  },
  {
   "cell_type": "markdown",
   "id": "bd0c8f86",
   "metadata": {
    "papermill": {
     "duration": 0.003914,
     "end_time": "2022-07-18T21:49:33.295952",
     "exception": false,
     "start_time": "2022-07-18T21:49:33.292038",
     "status": "completed"
    },
    "tags": []
   },
   "source": [
    "**Computing time differences**"
   ]
  },
  {
   "cell_type": "code",
   "execution_count": 2,
   "id": "3cc87d96",
   "metadata": {
    "execution": {
     "iopub.execute_input": "2022-07-18T21:49:33.305900Z",
     "iopub.status.busy": "2022-07-18T21:49:33.305211Z",
     "iopub.status.idle": "2022-07-18T21:49:33.314060Z",
     "shell.execute_reply": "2022-07-18T21:49:33.312835Z"
    },
    "papermill": {
     "duration": 0.016066,
     "end_time": "2022-07-18T21:49:33.316099",
     "exception": false,
     "start_time": "2022-07-18T21:49:33.300033",
     "status": "completed"
    },
    "tags": []
   },
   "outputs": [
    {
     "name": "stdout",
     "output_type": "stream",
     "text": [
      "2247\n",
      "78573\n",
      "15 November 2022\n",
      "20 March 2022\n"
     ]
    }
   ],
   "source": [
    "from datetime import datetime, timedelta  #the timedelta module comes in handy to compute differences between times:\n",
    "now = datetime.now()\n",
    "then = datetime(2016, 5, 23)\n",
    "\n",
    "#Specifying time is optional when creating a new datetime object\n",
    "delta = now-then\n",
    "#delta is of type timedelta\n",
    "print(delta.days)\n",
    "\n",
    "print(delta.seconds)\n",
    "\n",
    "\n",
    "#To get n day's after and n day's before date we could use:\n",
    "#n day's after date:\n",
    "def get_n_days_after_date(date_format=\"%d %B %Y\", add_days=120):\n",
    " date_n_days_after = now + timedelta(days=add_days)\n",
    " print(date_n_days_after.strftime(date_format))\n",
    "    \n",
    "#n day's before date:\n",
    "def get_n_days_before_date(date_format=\"%d %B %Y\", days_before=120):\n",
    " date_n_days_ago = now - timedelta(days=days_before)\n",
    " print(date_n_days_ago.strftime(date_format))\n",
    "get_n_days_after_date()\n",
    "get_n_days_before_date()"
   ]
  },
  {
   "cell_type": "markdown",
   "id": "9059cd9a",
   "metadata": {
    "papermill": {
     "duration": 0.004144,
     "end_time": "2022-07-18T21:49:33.324609",
     "exception": false,
     "start_time": "2022-07-18T21:49:33.320465",
     "status": "completed"
    },
    "tags": []
   },
   "source": [
    "**Switching between time zones**\n"
   ]
  },
  {
   "cell_type": "code",
   "execution_count": 3,
   "id": "39f51e83",
   "metadata": {
    "execution": {
     "iopub.execute_input": "2022-07-18T21:49:33.335138Z",
     "iopub.status.busy": "2022-07-18T21:49:33.334514Z",
     "iopub.status.idle": "2022-07-18T21:49:33.341345Z",
     "shell.execute_reply": "2022-07-18T21:49:33.340096Z"
    },
    "papermill": {
     "duration": 0.014725,
     "end_time": "2022-07-18T21:49:33.343605",
     "exception": false,
     "start_time": "2022-07-18T21:49:33.328880",
     "status": "completed"
    },
    "tags": []
   },
   "outputs": [
    {
     "name": "stdout",
     "output_type": "stream",
     "text": [
      "2022-07-18 21:49:33.338107\n",
      "2022-07-18 21:49:33.338107+00:00\n"
     ]
    }
   ],
   "source": [
    "#To switch between time zones, you need datetime objects that are timezone-aware.\n",
    "from datetime import datetime\n",
    "from dateutil import tz\n",
    "utc = tz.tzutc()\n",
    "local = tz.tzlocal()\n",
    "utc_now = datetime.utcnow()\n",
    "print(utc_now) # Not timezone-aware.\n",
    "utc_now = utc_now.replace(tzinfo=utc)\n",
    "utc_now # Timezone-aware.\n",
    "local_now = utc_now.astimezone(local)\n",
    "print(local_now) # Converted to local time."
   ]
  },
  {
   "cell_type": "markdown",
   "id": "48ee6971",
   "metadata": {
    "papermill": {
     "duration": 0.004116,
     "end_time": "2022-07-18T21:49:33.352257",
     "exception": false,
     "start_time": "2022-07-18T21:49:33.348141",
     "status": "completed"
    },
    "tags": []
   },
   "source": [
    "**Simple date arithmetic**"
   ]
  },
  {
   "cell_type": "code",
   "execution_count": 4,
   "id": "a4f59a04",
   "metadata": {
    "execution": {
     "iopub.execute_input": "2022-07-18T21:49:33.362591Z",
     "iopub.status.busy": "2022-07-18T21:49:33.362252Z",
     "iopub.status.idle": "2022-07-18T21:49:33.368551Z",
     "shell.execute_reply": "2022-07-18T21:49:33.367733Z"
    },
    "papermill": {
     "duration": 0.014368,
     "end_time": "2022-07-18T21:49:33.370925",
     "exception": false,
     "start_time": "2022-07-18T21:49:33.356557",
     "status": "completed"
    },
    "tags": []
   },
   "outputs": [
    {
     "name": "stdout",
     "output_type": "stream",
     "text": [
      "Today: 2022-07-18\n",
      "Yesterday: 2022-07-17\n",
      "Tomorrow: 2022-07-19\n",
      "Time between tomorrow and yesterday: 2 days, 0:00:00\n"
     ]
    }
   ],
   "source": [
    "import datetime\n",
    "today = datetime.date.today()\n",
    "print('Today:', today)\n",
    "yesterday = today - datetime.timedelta(days=1)\n",
    "print('Yesterday:', yesterday)\n",
    "tomorrow = today + datetime.timedelta(days=1)\n",
    "print('Tomorrow:', tomorrow)\n",
    "print('Time between tomorrow and yesterday:', tomorrow - yesterday)\n"
   ]
  },
  {
   "cell_type": "markdown",
   "id": "693cead0",
   "metadata": {
    "papermill": {
     "duration": 0.00421,
     "end_time": "2022-07-18T21:49:33.379534",
     "exception": false,
     "start_time": "2022-07-18T21:49:33.375324",
     "status": "completed"
    },
    "tags": []
   },
   "source": [
    "**Iterate over dates**"
   ]
  },
  {
   "cell_type": "code",
   "execution_count": 5,
   "id": "4b17bf35",
   "metadata": {
    "execution": {
     "iopub.execute_input": "2022-07-18T21:49:33.390389Z",
     "iopub.status.busy": "2022-07-18T21:49:33.389340Z",
     "iopub.status.idle": "2022-07-18T21:49:33.396203Z",
     "shell.execute_reply": "2022-07-18T21:49:33.394692Z"
    },
    "papermill": {
     "duration": 0.014594,
     "end_time": "2022-07-18T21:49:33.398464",
     "exception": false,
     "start_time": "2022-07-18T21:49:33.383870",
     "status": "completed"
    },
    "tags": []
   },
   "outputs": [
    {
     "name": "stdout",
     "output_type": "stream",
     "text": [
      "2022-07-18\n",
      "2022-07-19\n",
      "2022-07-20\n",
      "2022-07-21\n",
      "2022-07-22\n",
      "2022-07-23\n",
      "2022-07-24\n"
     ]
    }
   ],
   "source": [
    "import datetime\n",
    "# The size of each step in days\n",
    "day_delta = datetime.timedelta(days=1)\n",
    "start_date = datetime.date.today()\n",
    "end_date = start_date + 7*day_delta\n",
    "for i in range((end_date - start_date).days):\n",
    " print(start_date + i*day_delta)\n"
   ]
  },
  {
   "cell_type": "markdown",
   "id": "f51953eb",
   "metadata": {
    "papermill": {
     "duration": 0.004327,
     "end_time": "2022-07-18T21:49:33.407300",
     "exception": false,
     "start_time": "2022-07-18T21:49:33.402973",
     "status": "completed"
    },
    "tags": []
   },
   "source": [
    "**Time between two date-times**"
   ]
  },
  {
   "cell_type": "code",
   "execution_count": 6,
   "id": "71d66f7c",
   "metadata": {
    "execution": {
     "iopub.execute_input": "2022-07-18T21:49:33.418404Z",
     "iopub.status.busy": "2022-07-18T21:49:33.417695Z",
     "iopub.status.idle": "2022-07-18T21:49:33.424090Z",
     "shell.execute_reply": "2022-07-18T21:49:33.423366Z"
    },
    "papermill": {
     "duration": 0.014916,
     "end_time": "2022-07-18T21:49:33.426839",
     "exception": false,
     "start_time": "2022-07-18T21:49:33.411923",
     "status": "completed"
    },
    "tags": []
   },
   "outputs": [
    {
     "name": "stdout",
     "output_type": "stream",
     "text": [
      "4 days, 0:00:01\n",
      "4\n",
      "345601.0\n"
     ]
    }
   ],
   "source": [
    "from datetime import datetime\n",
    "a = datetime(2016,10,6,0,0,0)\n",
    "b = datetime(2016,10,1,23,59,59)\n",
    "print(a-b)\n",
    "# datetime.timedelta(4, 1)\n",
    "print((a-b).days)\n",
    "# 4\n",
    "print((a-b).total_seconds())"
   ]
  },
  {
   "cell_type": "markdown",
   "id": "c4e39f72",
   "metadata": {
    "papermill": {
     "duration": 0.004408,
     "end_time": "2022-07-18T21:49:33.435873",
     "exception": false,
     "start_time": "2022-07-18T21:49:33.431465",
     "status": "completed"
    },
    "tags": []
   },
   "source": [
    "**Outputting datetime object to string**"
   ]
  },
  {
   "cell_type": "code",
   "execution_count": 7,
   "id": "08709258",
   "metadata": {
    "execution": {
     "iopub.execute_input": "2022-07-18T21:49:33.447103Z",
     "iopub.status.busy": "2022-07-18T21:49:33.446221Z",
     "iopub.status.idle": "2022-07-18T21:49:33.455932Z",
     "shell.execute_reply": "2022-07-18T21:49:33.454905Z"
    },
    "papermill": {
     "duration": 0.017768,
     "end_time": "2022-07-18T21:49:33.458224",
     "exception": false,
     "start_time": "2022-07-18T21:49:33.440456",
     "status": "completed"
    },
    "tags": []
   },
   "outputs": [
    {
     "data": {
      "text/plain": [
       "'Oct 01 2016, 00:00:00'"
      ]
     },
     "execution_count": 7,
     "metadata": {},
     "output_type": "execute_result"
    }
   ],
   "source": [
    "from datetime import datetime\n",
    "datetime_for_string = datetime(2016,10,1,0,0)\n",
    "datetime_string_format = '%b %d %Y, %H:%M:%S'\n",
    "datetime.strftime(datetime_for_string,datetime_string_format)\n"
   ]
  },
  {
   "cell_type": "markdown",
   "id": "8d0b8274",
   "metadata": {
    "papermill": {
     "duration": 0.004432,
     "end_time": "2022-07-18T21:49:33.467471",
     "exception": false,
     "start_time": "2022-07-18T21:49:33.463039",
     "status": "completed"
    },
    "tags": []
   },
   "source": [
    "**Parsing string to datetime object**\n"
   ]
  },
  {
   "cell_type": "code",
   "execution_count": 8,
   "id": "1c8aa50e",
   "metadata": {
    "execution": {
     "iopub.execute_input": "2022-07-18T21:49:33.478424Z",
     "iopub.status.busy": "2022-07-18T21:49:33.478045Z",
     "iopub.status.idle": "2022-07-18T21:49:33.486619Z",
     "shell.execute_reply": "2022-07-18T21:49:33.485608Z"
    },
    "papermill": {
     "duration": 0.016734,
     "end_time": "2022-07-18T21:49:33.488892",
     "exception": false,
     "start_time": "2022-07-18T21:49:33.472158",
     "status": "completed"
    },
    "tags": []
   },
   "outputs": [
    {
     "data": {
      "text/plain": [
       "datetime.datetime(2016, 10, 1, 0, 0)"
      ]
     },
     "execution_count": 8,
     "metadata": {},
     "output_type": "execute_result"
    }
   ],
   "source": [
    "from datetime import datetime\n",
    "datetime_string = 'Oct 1 2016, 00:00:00'\n",
    "datetime_string_format = '%b %d %Y, %H:%M:%S'\n",
    "datetime.strptime(datetime_string, datetime_string_format)\n"
   ]
  }
 ],
 "metadata": {
  "kernelspec": {
   "display_name": "Python 3",
   "language": "python",
   "name": "python3"
  },
  "language_info": {
   "codemirror_mode": {
    "name": "ipython",
    "version": 3
   },
   "file_extension": ".py",
   "mimetype": "text/x-python",
   "name": "python",
   "nbconvert_exporter": "python",
   "pygments_lexer": "ipython3",
   "version": "3.7.12"
  },
  "papermill": {
   "default_parameters": {},
   "duration": 10.351457,
   "end_time": "2022-07-18T21:49:34.117029",
   "environment_variables": {},
   "exception": null,
   "input_path": "__notebook__.ipynb",
   "output_path": "__notebook__.ipynb",
   "parameters": {},
   "start_time": "2022-07-18T21:49:23.765572",
   "version": "2.3.4"
  }
 },
 "nbformat": 4,
 "nbformat_minor": 5
}
